{
  "nbformat": 4,
  "nbformat_minor": 0,
  "metadata": {
    "colab": {
      "name": "Untitled6.ipynb",
      "provenance": []
    },
    "kernelspec": {
      "name": "python3",
      "display_name": "Python 3"
    },
    "language_info": {
      "name": "python"
    }
  },
  "cells": [
    {
      "cell_type": "code",
      "execution_count": 64,
      "metadata": {
        "id": "OLw66i5x4kVK"
      },
      "outputs": [],
      "source": [
        "import re\n",
        "from collections import Counter\n",
        "import random"
      ]
    },
    {
      "cell_type": "code",
      "source": [
        "\"=====CONSTANTS=====\"\n",
        "BOOK_FNAME = \"AnnaKarenina.txt\"\n",
        "cyrillic_symbols = \" абвгдеёжзийклмнопрстуфхцчшщъыьэюя\"\n",
        "cyrillic_symbols_list = list(\"абвгдеёжзийклмнопрстуфхцчшщъыьэюя\")\n",
        "msg = \"меня зовут максимус деций меридий командующий северными армиями генерал легиона феликс верный слуга истинного императора марка аврелия отец убитого сына муж убитой жены и я отомщу за них в этой жизни или следующей\""
      ],
      "metadata": {
        "id": "TeH7VvYw7R_i"
      },
      "execution_count": 74,
      "outputs": []
    },
    {
      "cell_type": "markdown",
      "source": [
        "**1. Реализуйте базовый частотный метод по Шерлоку Холмсу:**\n",
        "\n",
        "подсчитайте частоты букв по корпусам (пунктуацию и капитализацию можно просто опустить, а вот пробелы лучше оставить);\n",
        "\n",
        "возьмите какие-нибудь тестовые тексты (нужно взять по меньшей мере 2-3 предложения, иначе вряд ли сработает), зашифруйте их посредством случайной перестановки символов;\n",
        "\n",
        "расшифруйте их таким частотным методом."
      ],
      "metadata": {
        "id": "5m4XJjfm48rL"
      }
    },
    {
      "cell_type": "code",
      "source": [
        "def create_row_from_file():\n",
        "  with open(BOOK_FNAME, \"r\") as fin:\n",
        "    text = fin.readlines()\n",
        "  one_row = \" \".join(text)\n",
        "  cleaned_row = re.sub(r\"\\W+\", \" \", one_row.lower())\n",
        "  return cleaned_row\n",
        "prepared_text = create_row_from_file()\n",
        "letter_freqs = Counter(prepared_text)"
      ],
      "metadata": {
        "id": "ylP2VGnZ8whV"
      },
      "execution_count": 75,
      "outputs": []
    },
    {
      "cell_type": "code",
      "source": [
        "def get_accuracy(msg, decoded_msg):\n",
        "    match = 0\n",
        "    for x, y in zip(msg, decoded_msg):\n",
        "        if x == y:\n",
        "            match += 1\n",
        "    return match / len(msg)\n",
        "\n",
        "def encode(msg, row):\n",
        "    lett_list = list(row)\n",
        "    random.shuffle(row)\n",
        "    translation = str.maketrans(\"\".join(lett_list), \"\".join(row))\n",
        "    return msg.translate(translation)\n",
        "\n",
        "def decode(encoded_msg, freqs, key):\n",
        "    if key == 'word':\n",
        "      enc_freqs = Counter(encoded_msg)\n",
        "    elif key == 'bigram':\n",
        "      enc_freqs = get_bigram_freqs(encoded_msg)\n",
        "    sort_enc_freqs = [item for item, _ in sorted(enc_freqs.items(), key=lambda letter: (-letter[1], letter[0]))]\n",
        "    sort_freqs = [item for item, _ in sorted(freqs.items(), key=lambda freq: (-freq[1], freq[0]))]\n",
        "    translation = str.maketrans(\"\".join(sort_enc_freqs), \"\".join(sort_freqs[:len(sort_enc_freqs)]))\n",
        "    return encoded_msg.translate(translation)\n",
        "\n",
        "def get_bigram_freqs(row):\n",
        "    bigram_freqs = Counter()\n",
        "    for idx in range(len(row) - 1):\n",
        "        bigram_freqs[row[idx:idx + 2]] += 1\n",
        "    return bigram_freqs\n",
        "\n",
        "def print_stat(msg, enc, dec):\n",
        "  print(f\"Сообщение:\\t{msg}\")\n",
        "  print(f\"Закодированная строка:\\t{enc}\")\n",
        "  print(f\"Раскодированная строка:\\t{dec}\")\n",
        "  print(f\"Метрика: {get_accuracy(msg, dec)}\")\n"
      ],
      "metadata": {
        "id": "gv0t7D7T5lQB"
      },
      "execution_count": 76,
      "outputs": []
    },
    {
      "cell_type": "code",
      "source": [
        "enc_ru_msg = encode(msg, cyrillic_symbols_list)\n",
        "dec_ru_msg = decode(msg, letter_freqs, 'word')\n",
        "print_stat(msg, enc_ru_msg, dec_ru_msg)"
      ],
      "metadata": {
        "colab": {
          "base_uri": "https://localhost:8080/"
        },
        "id": "VvTrTk-s5nd1",
        "outputId": "d48fc035-ed2c-47a2-fffb-fcd2ccbb25ec"
      },
      "execution_count": 77,
      "outputs": [
        {
          "output_type": "stream",
          "name": "stdout",
          "text": [
            "Сообщение:\tменя зовут максимус деций меридий командующий северными армиями генерал легиона феликс верный слуга истинного императора марка аврелия отец убитого сына муж убитой жены и я отомщу за них в этой жизни или следующей\n",
            "Закодированная строка:\tючнт цусие юолпзюип дчшзя ючьздзя луюондижэзя пчсчьнаюз оьюзтюз фчнчьой йчфзуно щчйзлп счьная пйифо зпезннуфу зюгчьоеуьо юоьло осьчйзт уечш ирзеуфу пано юиъ ирзеуя ъчна з т уеуюэи цо нзы с ёеуя ъзцнз зйз пйчдижэчя\n",
            "Раскодированная строка:\tиеты бнмлр иаявоилв пежок иесопок яниатплйчок веместьио асиоыио уетесад деуонта хедояв местьк вдлуа овроттнун оишесарнса иасяа амседоы нреж лзорнун вьта илг лзорнк геть о ы нрничл ба тою м эрнк гобто одо вдеплйчек\n",
            "Метрика: 0.29107981220657275\n"
          ]
        }
      ]
    },
    {
      "cell_type": "markdown",
      "source": [
        "**2. Вряд ли в результате получилась такая уж хорошая расшифровка, разве что если вы брали в качестве тестовых данных целые рассказы. Но и Шерлок Холмс был не так уж прост: после буквы E, которая действительно выделяется частотой, дальше он анализировал уже конкретные слова и пытался угадать, какими они могли бы быть. Я не знаю, как запрограммировать такой интуитивный анализ, так что давайте просто сделаем следующий логический шаг:**\n",
        "\n",
        "подсчитайте частоты биграмм (т.е. пар последовательных букв) по корпусам;\n",
        "\n",
        "проведите тестирование аналогично п.1, но при помощи биграмм.\n",
        "\n"
      ],
      "metadata": {
        "id": "XdG7C9sWCYXA"
      }
    },
    {
      "cell_type": "code",
      "source": [
        "bigram_ru_freqs = get_bigram_freqs(prepared_text)\n",
        "dec_birgam_msg = decode(enc_ru_msg, bigram_ru_freqs, 'bigram')\n",
        "print_stat(msg, enc_ru_msg, dec_birgam_msg)"
      ],
      "metadata": {
        "colab": {
          "base_uri": "https://localhost:8080/"
        },
        "id": "Jpgc7ABbCqvB",
        "outputId": "93130855-1d46-4553-9acc-421f2132166a"
      },
      "execution_count": 78,
      "outputs": [
        {
          "output_type": "stream",
          "name": "stdout",
          "text": [
            "Сообщение:\tменя зовут максимус деций меридий командующий северными армиями генерал легиона феликс верный слуга истинного императора марка аврелия отец убитого сына муж убитой жены и я отомщу за них в этой жизни или следующей\n",
            "Закодированная строка:\tючнт цусие юолпзюип дчшзя ючьздзя луюондижэзя пчсчьнаюз оьюзтюз фчнчьой йчфзуно щчйзлп счьная пйифо зпезннуфу зюгчьоеуьо юоьло осьчйзт уечш ирзеуфу пано юиъ ирзеуя ъчна з т уеуюэи цо нзы с ёеуя ъзцнз зйз пйчдижэчя\n",
            "Раскодированная строка:\tаенойэтмряйаиеюуарюйьеиууйаееуьууйетаиньрдмууйюемеенгауйиеауоауй енееилйле утниймелуеюймеенгуйюлр ийуюяуннт тйуаоееиятеийаиееийимеелуойтяеийр уят тйюгнийарсйр уятуйсенгйуйойтятамрйэийнуеймйаятуйсуэнуйулуйюлеьрдмеу\n",
            "Метрика: 0.1643192488262911\n"
          ]
        }
      ]
    },
    {
      "cell_type": "markdown",
      "source": [
        "**3. Но и это ещё не всё: биграммы скорее всего тоже далеко не всегда работают. Основная часть задания — в том, как можно их улучшить:**\n",
        "\n",
        "предложите метод обучения перестановки символов в этом задании, основанный на MCMC-сэмплировании, но по-прежнему работающий на основе статистики биграмм;\n",
        "\n",
        "реализуйте и протестируйте его, убедитесь, что результаты улучшились.\n"
      ],
      "metadata": {
        "id": "_CdTCm38ESXj"
      }
    },
    {
      "cell_type": "markdown",
      "source": [
        "Давайте будем использовать в качестве состояния цепи Маркова символ, тогда можно будет построить матрицу переходов T.\n",
        "Для строки s вычислим порождения: $P(s) = \\prod_i p(s_{i+1}|s_i) = \\prod_i T_{s_i,s_{i+1}}$.\n",
        "\n",
        "Теперь найдем такую перестановку букв, при применении которой к закодированному сообщению получим результат с наивысшим P.\n",
        "\n",
        "Применение MCMC для поиска этой перестановки: поменяем два символа местами. Затем рассчитаем P2/P1 для исходной и полученной перестановок. Используем метод Метрополиса-Гастингса для принятия решения, оставить ли новую перестановку (P2>P1) или же вернуть старую. Делаем несколько таких итераций и сохраняем результат. Повторяем, пока не получим лучшую перестановку."
      ],
      "metadata": {
        "id": "lhpQQgIJN-cU"
      }
    },
    {
      "cell_type": "code",
      "source": [
        "def create_matrix(prep_t):\n",
        "  T = Counter()\n",
        "  for i in range(len(prep_t) - 1):\n",
        "      T[(prep_t[i], prep_t[i + 1])] += 1\n",
        "  for let_1 in cyrillic_symbols:\n",
        "      for let_2 in cyrillic_symbols:\n",
        "          T[(let_1, let_2)] += 1\n",
        "  total = len(prep_t) - 1 + len(cyrillic_symbols) ** 2\n",
        "  for k in T.keys():\n",
        "      T[k] /= total\n",
        "  return T\n",
        "\n",
        "def get_perms(symbols):\n",
        "    shuff_symbols = list(symbols)\n",
        "    random.shuffle(shuff_symbols)\n",
        "    shuff_symbols = ''.join(shuff_symbols)\n",
        "    sym_dict = {k: v for k, v in zip(symbols, shuff_symbols)}\n",
        "    return sym_dict\n",
        "\n",
        "def get_rpob_ratio(T, text_2, text_1):\n",
        "    ratio = 1\n",
        "    for i in range(len(text_2) - 1):\n",
        "        ratio *= T[(text_2[i], text_2[i + 1])] / T[(text_1[i], text_1[i + 1])]\n",
        "    return ratio\n",
        "\n",
        "def decode(enc_msg, T, max_iters=10000, max_attempts=20):\n",
        "    final = enc_msg\n",
        "    for j in range(max_attempts):\n",
        "        perm = get_perms(cyrillic_symbols)\n",
        "        for i in range(max_iters):\n",
        "            key_1, key_2= random.choice(list(perm.keys())), random.choice(list(perm.keys()))\n",
        "            text_1 = ''.join([perm[sym] for sym in enc_msg])\n",
        "            perm[key_1], perm[key_2] = perm[key_2], perm[key_1]\n",
        "            text_2 = ''.join([perm[sym] for sym in enc_msg])\n",
        "            ratio = get_rpob_ratio(T, text_2, text_1)\n",
        "            if random.uniform(0, 1) > ratio:\n",
        "                perm[key_1], perm[key_2] = perm[key_2], perm[key_1]\n",
        "        res = ''.join([perm[sym] for sym in enc_msg])\n",
        "        if get_rpob_ratio(T, res, final) > 1:\n",
        "            final = res\n",
        "    return final"
      ],
      "metadata": {
        "id": "zH3zB33UEgi3"
      },
      "execution_count": 79,
      "outputs": []
    },
    {
      "cell_type": "code",
      "source": [
        "encrypted = encode(msg, cyrillic_symbols_list)\n",
        "t_matr = create_matrix(prepared_text)\n",
        "decrypted = decode(encrypted, t_matr)\n",
        "print(decrypted)\n",
        "print(f'Accuracy: {get_accuracy(msg, decrypted)}')"
      ],
      "metadata": {
        "colab": {
          "base_uri": "https://localhost:8080/"
        },
        "id": "OiUvRKfjb2eL",
        "outputId": "760cf73c-0b52-4e41-9c8a-4d485956256d"
      },
      "execution_count": 82,
      "outputs": [
        {
          "output_type": "stream",
          "name": "stdout",
          "text": [
            "веня зомут ваксивус дегий веридий ковандуюший семерныви арвияви пенерал лепиона беликс мерный слупа истиннопо ивьератора варка амрелия отег ужитопо сына вуч ужитой чены и я отовшу за них м этой чизни или следуюшей\n",
            "Accuracy: 0.8403755868544601\n"
          ]
        }
      ]
    },
    {
      "cell_type": "code",
      "source": [
        "\n",
        "msg = \"←⇠⇒↟↹↷⇊↹↷↟↤↟↨←↹↝⇛⇯↳⇴⇒⇈↝⇊↾↹↟⇒↟↹⇷⇛⇞↨↟↹↝⇛⇯↳⇴⇒⇈↝⇊↾↹↨←⇌⇠↨↹⇙↹⇸↨⇛↙⇛↹⇠⇛⇛↲⇆←↝↟↞↹⇌⇛↨⇛⇯⇊↾↹⇒←↙⇌⇛↹⇷⇯⇛⇞↟↨⇴↨⇈↹⇠⇌⇛⇯←←↹↷⇠←↙⇛↹↷⇊↹↷⇠←↹⇠↤←⇒⇴⇒↟↹⇷⇯⇴↷↟⇒⇈↝⇛↹↟↹⇷⇛⇒⇙⇞↟↨←↹↳⇴⇌⇠↟↳⇴⇒⇈↝⇊↾↹↲⇴⇒⇒↹⇰⇴↹⇷⇛⇠⇒←↤↝←←↹⇞←↨↷←⇯↨⇛←↹⇰⇴↤⇴↝↟←↹⇌⇙⇯⇠⇴↹↘⇛↨↞↹⇌⇛↝←⇞↝⇛↹↞↹↝↟⇞←↙⇛↹↝←↹⇛↲←⇆⇴⇏\"\n",
        "transcoder = {k: v for k, v in zip(set(msg), cyrillic_symbols)}\n",
        "message_ru = ''.join([transcoder[k] for k in msg])"
      ],
      "metadata": {
        "id": "0mGLDDP1ieXO"
      },
      "execution_count": 83,
      "outputs": []
    },
    {
      "cell_type": "code",
      "source": [
        "t_matr = create_matrix(prepared_text)\n",
        "decrypted = decode(message_ru, t_matr)\n",
        "print(decrypted)"
      ],
      "metadata": {
        "colab": {
          "base_uri": "https://localhost:8080/"
        },
        "id": "ZkjeYNZ1igrL",
        "outputId": "511b4607-62d0-4eff-9a46-4a39e67e5740"
      },
      "execution_count": 84,
      "outputs": [
        {
          "output_type": "stream",
          "name": "stdout",
          "text": [
            "если вы вимите нордальный или почти нордальный текст у этого сообщения который легко прочитать скорее всего вы все смелали правильно и получите даксидальный балл за послемнее четвертое замание курса хотя конечно я ничего не обещаж\n"
          ]
        }
      ]
    }
  ]
}