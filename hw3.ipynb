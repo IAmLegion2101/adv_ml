{
  "nbformat": 4,
  "nbformat_minor": 0,
  "metadata": {
    "colab": {
      "name": "Untitled6.ipynb",
      "provenance": []
    },
    "kernelspec": {
      "name": "python3",
      "display_name": "Python 3"
    },
    "language_info": {
      "name": "python"
    }
  },
  "cells": [
    {
      "cell_type": "code",
      "execution_count": 1,
      "metadata": {
        "id": "OLw66i5x4kVK"
      },
      "outputs": [],
      "source": [
        "import re\n",
        "from collections import Counter\n",
        "import random"
      ]
    },
    {
      "cell_type": "code",
      "source": [
        "\"=====CONSTANTS=====\"\n",
        "BOOK_FNAME = \"AnnaKarenina.txt\"\n",
        "cyrillic_symbols = list(\"абвгдеёжзийклмнопрстуфхцчшщъыьэюя\")\n",
        "msg = \"меня зовут максимус деций меридий командующий северными армиями генерал легиона феликс верный слуга истинного императора марка аврелия отец убитого сына муж убитой жены и я отомщу за них в этой жизни или следующей!\""
      ],
      "metadata": {
        "id": "TeH7VvYw7R_i"
      },
      "execution_count": 2,
      "outputs": []
    },
    {
      "cell_type": "markdown",
      "source": [
        "**1. Реализуйте базовый частотный метод по Шерлоку Холмсу:**\n",
        "\n",
        "подсчитайте частоты букв по корпусам (пунктуацию и капитализацию можно просто опустить, а вот пробелы лучше оставить);\n",
        "\n",
        "возьмите какие-нибудь тестовые тексты (нужно взять по меньшей мере 2-3 предложения, иначе вряд ли сработает), зашифруйте их посредством случайной перестановки символов;\n",
        "\n",
        "расшифруйте их таким частотным методом."
      ],
      "metadata": {
        "id": "5m4XJjfm48rL"
      }
    },
    {
      "cell_type": "code",
      "source": [
        "def create_row_from_file():\n",
        "  with open(BOOK_FNAME, \"r\") as fin:\n",
        "    text = fin.readlines()\n",
        "  one_row = \" \".join(text)\n",
        "  cleaned_row = re.sub(r\"\\W+\", \" \", one_row.lower())\n",
        "  return cleaned_row\n",
        "prepared_text = create_row_from_file()\n",
        "letter_freqs = Counter(prepared_text)"
      ],
      "metadata": {
        "id": "ylP2VGnZ8whV"
      },
      "execution_count": 3,
      "outputs": []
    },
    {
      "cell_type": "code",
      "source": [
        "def get_accuracy(msg, decoded_msg):\n",
        "    match = 0\n",
        "    for x, y in zip(msg, decoded_msg):\n",
        "        if x == y:\n",
        "            match += 1\n",
        "    return match / len(msg)\n",
        "\n",
        "def encode(msg, row):\n",
        "    lett_list = list(row)\n",
        "    random.shuffle(row)\n",
        "    translation = str.maketrans(\"\".join(lett_list), \"\".join(row))\n",
        "    return msg.translate(translation)\n",
        "\n",
        "def decode(encoded_msg, freqs, key):\n",
        "    if key == 'word':\n",
        "      enc_freqs = Counter(encoded_msg)\n",
        "    elif key == 'bigram':\n",
        "      enc_freqs = get_bigram_freqs(encoded_msg)\n",
        "    sort_enc_freqs = [item for item, _ in sorted(enc_freqs.items(), key=lambda letter: (-letter[1], letter[0]))]\n",
        "    sort_freqs = [item for item, _ in sorted(freqs.items(), key=lambda freq: (-freq[1], freq[0]))]\n",
        "    translation = str.maketrans(\"\".join(sort_enc_freqs), \"\".join(sort_freqs[:len(sort_enc_freqs)]))\n",
        "    return encoded_msg.translate(translation)\n",
        "\n",
        "def get_bigram_freqs(row):\n",
        "    bigram_freqs = Counter()\n",
        "    for idx in range(len(row) - 1):\n",
        "        bigram_freqs[row[idx:idx + 2]] += 1\n",
        "    return bigram_freqs\n",
        "\n",
        "def print_stat(msg, enc, dec):\n",
        "  print(f\"Сообщение:\\t{msg}\")\n",
        "  print(f\"Закодированная строка:\\t{enc}\")\n",
        "  print(f\"Раскодированная строка:\\t{dec}\")\n",
        "  print(f\"Метрика: {get_accuracy(msg, dec)}\")\n"
      ],
      "metadata": {
        "id": "gv0t7D7T5lQB"
      },
      "execution_count": 4,
      "outputs": []
    },
    {
      "cell_type": "code",
      "source": [
        "enc_ru_msg = encode(msg, cyrillic_symbols)\n",
        "dec_ru_msg = decode(msg, letter_freqs, 'word')\n",
        "print_stat(msg, enc_ru_msg, dec_ru_msg)"
      ],
      "metadata": {
        "colab": {
          "base_uri": "https://localhost:8080/"
        },
        "id": "VvTrTk-s5nd1",
        "outputId": "0a678a46-0123-416a-807f-5bcd90e6bcb8"
      },
      "execution_count": 5,
      "outputs": [
        {
          "output_type": "stream",
          "name": "stdout",
          "text": [
            "Сообщение:\tменя зовут максимус деций меридий командующий северными армиями генерал легиона феликс верный слуга истинного императора марка аврелия отец убитого сына муж убитой жены и я отомщу за них в этой жизни или следующей!\n",
            "Закодированная строка:\tюлцз чщиуг юёнжфюуж алсфо юлкфафо нщюёцаубпфо жлилкцйюф ёкюфзюф ялцлкёы ыляфщцё элыфнж илкцйо жыуяё фжгфццщящ фюьлкёгщкё юёкнё ёиклыфз щглс умфгщящ жйцё юуе умфгщо елцй ф з щгщюпу чё цфх и ъгщо ефчцф фыф жылаубпло!\n",
            "Раскодированная строка:\tиеты бнмлр иаявоилв пежок иесопок яниатплйчок веместьио асиоыио уетесад деуонта юедояв местьк вдлуа овроттнун оихесарнса иасяа амседоы нреж лзорнун вьта илг лзорнк геть о ы нрничл ба тоэ м щрнк гобто одо вдеплйчекш\n",
            "Метрика: 0.2850467289719626\n"
          ]
        }
      ]
    },
    {
      "cell_type": "markdown",
      "source": [
        "**2. Вряд ли в результате получилась такая уж хорошая расшифровка, разве что если вы брали в качестве тестовых данных целые рассказы. Но и Шерлок Холмс был не так уж прост: после буквы E, которая действительно выделяется частотой, дальше он анализировал уже конкретные слова и пытался угадать, какими они могли бы быть. Я не знаю, как запрограммировать такой интуитивный анализ, так что давайте просто сделаем следующий логический шаг:**\n",
        "\n",
        "подсчитайте частоты биграмм (т.е. пар последовательных букв) по корпусам;\n",
        "\n",
        "проведите тестирование аналогично п.1, но при помощи биграмм.\n",
        "\n"
      ],
      "metadata": {
        "id": "XdG7C9sWCYXA"
      }
    },
    {
      "cell_type": "code",
      "source": [
        "bigram_ru_freqs = get_bigram_freqs(prepared_text)\n",
        "dec_birgam_msg = decode(enc_ru_msg, bigram_ru_freqs, 'bigram')\n",
        "print_stat(msg, enc_ru_msg, dec_birgam_msg)"
      ],
      "metadata": {
        "colab": {
          "base_uri": "https://localhost:8080/"
        },
        "id": "Jpgc7ABbCqvB",
        "outputId": "a521c0ed-e622-4475-fbd5-c0e17eb79d24"
      },
      "execution_count": 6,
      "outputs": [
        {
          "output_type": "stream",
          "name": "stdout",
          "text": [
            "Сообщение:\tменя зовут максимус деций меридий командующий северными армиями генерал легиона феликс верный слуга истинного императора марка аврелия отец убитого сына муж убитой жены и я отомщу за них в этой жизни или следующей!\n",
            "Закодированная строка:\tюлцз чщиуг юёнжфюуж алсфо юлкфафо нщюёцаубпфо жлилкцйюф ёкюфзюф ялцлкёы ыляфщцё элыфнж илкцйо жыуяё фжгфццщящ фюьлкёгщкё юёкнё ёиклыфз щглс умфгщящ жйцё юуе умфгщо елцй ф з щгщюпу чё цфх и ъгщо ефчцф фыф жылаубпло!\n",
            "Раскодированная строка:\tмдянжммолежмвмаумлажыдлутжмдвуыутжмммвяыл еутжадодвя мужввмунмужтдядввыжыдтумявжедыумажодвя тжаылтвжуаеуяямтмжумадввемввжмввмвжвовдыунжмедлжлоуемтмжа явжмлсжлоуемтжсдя жужнжмеммелжмвжяусжожыемтжсумяужуыужаыдыл едти\n",
            "Метрика: 0.056074766355140186\n"
          ]
        }
      ]
    }
  ]
}