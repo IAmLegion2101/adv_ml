{
 "cells": [
  {
   "cell_type": "code",
   "execution_count": 1,
   "metadata": {
    "id": "PmQ0iREXM9-R"
   },
   "outputs": [],
   "source": [
    "!activate adv_ml_env"
   ]
  },
  {
   "cell_type": "code",
   "execution_count": 26,
   "metadata": {},
   "outputs": [],
   "source": [
    "import json, pickle\n",
    "from collections import Counter\n",
    "import warnings\n",
    "\n",
    "import pandas as pd\n",
    "import numpy as np\n",
    "from matplotlib import pyplot as plt\n",
    "from sklearn.preprocessing import OneHotEncoder\n",
    "from sklearn.linear_model import LogisticRegression\n",
    "from sklearn.base import clone\n",
    "from scipy.sparse import vstack, hstack\n",
    "from scipy.stats.stats import spearmanr\n",
    "from scipy.stats.stats import kendalltau\n",
    "from tqdm import tqdm\n",
    "import sklearn"
   ]
  },
  {
   "cell_type": "code",
   "execution_count": 3,
   "metadata": {},
   "outputs": [
    {
     "data": {
      "text/plain": [
       "'1.0.2'"
      ]
     },
     "execution_count": 3,
     "metadata": {},
     "output_type": "execute_result"
    }
   ],
   "source": [
    "sklearn.__version__"
   ]
  },
  {
   "cell_type": "code",
   "execution_count": 4,
   "metadata": {
    "colab": {
     "base_uri": "https://localhost:8080/"
    },
    "id": "fGYS8egQNANw",
    "outputId": "7a9d64d5-1805-4067-f6df-b73301b0f93f"
   },
   "outputs": [],
   "source": [
    "#!wget https://www.dropbox.com/s/s4qj0fpsn378m2i/chgk.zip "
   ]
  },
  {
   "cell_type": "code",
   "execution_count": 5,
   "metadata": {
    "colab": {
     "base_uri": "https://localhost:8080/"
    },
    "id": "GlWYfmMYNCEH",
    "outputId": "9e23bbab-d971-4e3d-db40-8a7d9f8d5d02"
   },
   "outputs": [],
   "source": [
    "#!unzip chgk.zip"
   ]
  },
  {
   "cell_type": "markdown",
   "metadata": {
    "id": "Qe5Q4zsLWd91"
   },
   "source": [
    "1. **Прочитайте и проанализируйте данные, выберите турниры, в которых есть данные о составах команд и повопросных результатах (поле mask в results.pkl). Для унификации предлагаю:**\n",
    "\n",
    "  a) взять в тренировочный набор турниры с dateStart из 2019 года; \n",
    "\n",
    "  b) в тестовый — турниры с dateStart из 2020 года."
   ]
  },
  {
   "cell_type": "markdown",
   "metadata": {
    "id": "iFOu0ZK6WtTU"
   },
   "source": [
    "Прочитаем файлы и дропнем все ненужные данные"
   ]
  },
  {
   "cell_type": "code",
   "execution_count": 6,
   "metadata": {
    "id": "zsRkQ4DVNE4B"
   },
   "outputs": [],
   "source": [
    "def read_pickle_file(fname):\n",
    "    file = open(fname, 'rb')\n",
    "    res = pickle.load(file)\n",
    "    file.close()\n",
    "    return res\n",
    "results_data = read_pickle_file('results.pkl')\n",
    "players_data = read_pickle_file('players.pkl')\n",
    "tournaments_data = read_pickle_file('tournaments.pkl')"
   ]
  },
  {
   "cell_type": "code",
   "execution_count": 7,
   "metadata": {
    "id": "mKKNBotWV7yV"
   },
   "outputs": [],
   "source": [
    "df_players = pd.DataFrame(players_data.values()).set_index(\"id\")\n",
    "df_tournaments = pd.DataFrame(tournaments_data.values()).set_index(\"id\")\n",
    "\n",
    "df_tournaments[\"year\"] = df_tournaments[\"dateStart\"].apply(lambda x: int(x[:4]))\n",
    "df_train_tournaments = df_tournaments[df_tournaments[\"year\"] == 2019]\n",
    "df_test_tournaments = df_tournaments[df_tournaments[\"year\"] == 2020]"
   ]
  },
  {
   "cell_type": "markdown",
   "metadata": {
    "id": "BmLZ_lu9W1cn"
   },
   "source": [
    "Сформируем данные для обучения"
   ]
  },
  {
   "cell_type": "code",
   "execution_count": 8,
   "metadata": {
    "id": "b1iIrqgsXm64"
   },
   "outputs": [],
   "source": [
    "train_tourn_res = []\n",
    "\n",
    "player_ids = []\n",
    "question_ids = []\n",
    "for tourn_id in df_train_tournaments.index:\n",
    "    tourn_res = results_data[tourn_id]\n",
    "    total_questions = set()\n",
    "\n",
    "    mask = \"\"\n",
    "    for team in tourn_res:\n",
    "        if team.get('mask') is not None:\n",
    "            total_questions.add(len(team['mask'].replace(\"?\", \"\").replace(\"X\", \"\")))\n",
    "        else:\n",
    "            continue\n",
    "  \n",
    "    if len(total_questions) > 1:\n",
    "        continue\n",
    "\n",
    "    for team_res in tourn_res:        \n",
    "        tmp = {'tourn_id': [],\n",
    "               'mask': [],\n",
    "               'team_id': [],\n",
    "               'player_ids': []}\n",
    "        if team_res.get(\"mask\") is None or team_res.get(\"teamMembers\") is None or len(team_res[\"teamMembers\"]) < 1:\n",
    "                continue\n",
    "        mask = team_res[\"mask\"].replace(\"?\", \"\").replace(\"X\", \"\")\n",
    "        tmp['tourn_id'] =  tourn_id\n",
    "        tmp['mask'] = list(map(int, mask))\n",
    "        tmp['team_id'] = team_res['team']['id']\n",
    "        tmp['player_ids'] = [player[\"player\"][\"id\"] for player in team_res[\"teamMembers\"]]\n",
    "        player_ids.extend([player[\"player\"][\"id\"] for player in team_res[\"teamMembers\"]])\n",
    "        train_tourn_res.append(tmp)\n",
    "\n",
    "    if mask:\n",
    "        for idx, _ in enumerate(mask):\n",
    "            question_ids.append(str(tourn_id) + \"-\" + str(idx))\n",
    "player_ids = list(set(player_ids))"
   ]
  },
  {
   "cell_type": "markdown",
   "metadata": {
    "id": "6Y_ZwzyghcXp"
   },
   "source": [
    "**2. Постройте baseline-модель на основе линейной или логистической регрессии, которая будет обучать рейтинг-лист игроков. Замечания и подсказки:**\n",
    "\n",
    "a) повопросные результаты — это фактически результаты броска монетки, и их предсказание скорее всего имеет отношение к бинарной классификации;\n",
    "\n",
    "b) в разных турнирах вопросы совсем разного уровня сложности, поэтому модель должна это учитывать; скорее всего, модель должна будет явно обучать не только силу каждого игрока, но и сложность каждого вопроса;\n",
    "\n",
    "c) для baseline-модели можно забыть о командах и считать, что повопросные результаты команды просто относятся к каждому из её игроков."
   ]
  },
  {
   "cell_type": "markdown",
   "metadata": {
    "id": "yb_s2HO-zM7d"
   },
   "source": [
    "обучим модель на следующих данных: возьмем 2 ohe сложенных вектора, один оценивает навык игрока, а второй - сложность вопроса. Веса модели будут отвечать за навык игрока и сложность модели."
   ]
  },
  {
   "cell_type": "code",
   "execution_count": 9,
   "metadata": {
    "id": "_uMN1N4lYWF2"
   },
   "outputs": [],
   "source": [
    "ohe_players = OneHotEncoder()\n",
    "ohe_questions = OneHotEncoder()\n",
    "player_ids = np.array(player_ids).reshape(-1, 1)\n",
    "ohe_player_ids = ohe_players.fit_transform(player_ids)\n",
    "\n",
    "question_ids = np.array(question_ids).reshape(-1, 1)\n",
    "ohe_question_ids = ohe_questions.fit_transform(question_ids)"
   ]
  },
  {
   "cell_type": "code",
   "execution_count": 10,
   "metadata": {
    "colab": {
     "base_uri": "https://localhost:8080/"
    },
    "id": "ciRHQMTV0XZu",
    "outputId": "39492bbd-640a-406e-d5ea-6a0e6d3be133"
   },
   "outputs": [
    {
     "name": "stderr",
     "output_type": "stream",
     "text": [
      "100%|████████████████████████████████████████████████████████████████████████████| 76490/76490 [43:40<00:00, 29.19it/s]\n"
     ]
    }
   ],
   "source": [
    "dataset_logreg = []\n",
    "targets = []\n",
    "for tourn in tqdm(train_tourn_res):\n",
    "    \n",
    "    \n",
    "    players_vec = np.array([np.zeros(len(tourn['mask'])) + int(pl_id) for pl_id in tourn['player_ids']], dtype='int').reshape(-1, 1)\n",
    "    ohe_players_matr = ohe_players.transform(players_vec)\n",
    "  \n",
    "    q_mask_vec = [f'{str(tourn[\"tourn_id\"])}-{str(idx)}' for idx in range(len(tourn['mask']))]\n",
    "    q_mask = np.tile(q_mask_vec, len(tourn['player_ids'])).reshape(-1, 1)\n",
    "    ohe_questions_matr = ohe_questions.transform(q_mask)\n",
    "\n",
    "    targets.append(np.tile(tourn['mask'], len(tourn['player_ids'])).reshape(-1, 1))\n",
    "    dataset_logreg.append(hstack([ohe_players_matr, ohe_questions_matr]))"
   ]
  },
  {
   "cell_type": "code",
   "execution_count": 11,
   "metadata": {
    "id": "v4EpHqM_QTaR"
   },
   "outputs": [],
   "source": [
    "dataset = vstack(dataset_logreg)\n",
    "target = np.vstack(targets)"
   ]
  },
  {
   "cell_type": "code",
   "execution_count": 12,
   "metadata": {
    "colab": {
     "base_uri": "https://localhost:8080/"
    },
    "id": "o6D2dbcCQabv",
    "outputId": "6cad63c4-b6b2-4aab-c176-dfa2d62ece04"
   },
   "outputs": [
    {
     "name": "stderr",
     "output_type": "stream",
     "text": [
      "D:\\Program Files\\Anaconda\\lib\\site-packages\\sklearn\\utils\\validation.py:993: DataConversionWarning: A column-vector y was passed when a 1d array was expected. Please change the shape of y to (n_samples, ), for example using ravel().\n",
      "  y = column_or_1d(y, warn=True)\n"
     ]
    },
    {
     "data": {
      "text/plain": [
       "LogisticRegression(solver='saga')"
      ]
     },
     "execution_count": 12,
     "metadata": {},
     "output_type": "execute_result"
    }
   ],
   "source": [
    "log_reg = LogisticRegression(solver='saga')\n",
    "log_reg.fit(dataset, target)"
   ]
  },
  {
   "cell_type": "code",
   "execution_count": 13,
   "metadata": {
    "id": "cqd6BbTDafCJ"
   },
   "outputs": [],
   "source": [
    "all_pl = []\n",
    "for team_in_tourn in train_tourn_res:\n",
    "    for player_id in team_in_tourn[\"player_ids\"]:\n",
    "        if player_id not in all_pl:\n",
    "            all_pl.append(player_id)\n",
    "\n",
    "rating = pd.DataFrame({'player_ids': sorted(all_pl),\n",
    "                       'strength': log_reg.coef_[0][:len(all_pl)]})"
   ]
  },
  {
   "cell_type": "code",
   "execution_count": 14,
   "metadata": {
    "id": "zvvuoqsnaiTV"
   },
   "outputs": [],
   "source": [
    "player_count_games_vocab = Counter()\n",
    "\n",
    "for team in train_tourn_res:\n",
    "    for player_id in team[\"player_ids\"]:\n",
    "        player_count_games_vocab[player_id] += len(team[\"mask\"])\n",
    "\n",
    "df_player_count_games_vocab = pd.DataFrame.from_dict(player_count_games_vocab, orient='index')\n",
    "df_player_count_games_vocab[\"player_ids\"] = df_player_count_games_vocab.index"
   ]
  },
  {
   "cell_type": "code",
   "execution_count": 15,
   "metadata": {
    "id": "jAc8-IpZajKS"
   },
   "outputs": [],
   "source": [
    "df_players_with_index = df_players.copy()\n",
    "df_players_with_index[\"player_ids\"] = df_players_with_index.index\n",
    "\n",
    "rating = df_players_with_index.merge(rating, on=\"player_ids\")\n",
    "rating = rating.merge(df_player_count_games_vocab, on=\"player_ids\")"
   ]
  },
  {
   "cell_type": "code",
   "execution_count": 16,
   "metadata": {
    "colab": {
     "base_uri": "https://localhost:8080/",
     "height": 1000
    },
    "id": "okL3aaqtaujF",
    "outputId": "fdb66a6d-c37b-4d81-aec9-dfcd509ef1ec"
   },
   "outputs": [
    {
     "data": {
      "text/html": [
       "<div>\n",
       "<style scoped>\n",
       "    .dataframe tbody tr th:only-of-type {\n",
       "        vertical-align: middle;\n",
       "    }\n",
       "\n",
       "    .dataframe tbody tr th {\n",
       "        vertical-align: top;\n",
       "    }\n",
       "\n",
       "    .dataframe thead th {\n",
       "        text-align: right;\n",
       "    }\n",
       "</style>\n",
       "<table border=\"1\" class=\"dataframe\">\n",
       "  <thead>\n",
       "    <tr style=\"text-align: right;\">\n",
       "      <th></th>\n",
       "      <th>name</th>\n",
       "      <th>patronymic</th>\n",
       "      <th>surname</th>\n",
       "      <th>player_ids</th>\n",
       "      <th>strength</th>\n",
       "      <th>0</th>\n",
       "    </tr>\n",
       "  </thead>\n",
       "  <tbody>\n",
       "    <tr>\n",
       "      <th>3832</th>\n",
       "      <td>Максим</td>\n",
       "      <td>Михайлович</td>\n",
       "      <td>Руссо</td>\n",
       "      <td>27403</td>\n",
       "      <td>4.164988</td>\n",
       "      <td>2092</td>\n",
       "    </tr>\n",
       "    <tr>\n",
       "      <th>601</th>\n",
       "      <td>Александра</td>\n",
       "      <td>Владимировна</td>\n",
       "      <td>Брутер</td>\n",
       "      <td>4270</td>\n",
       "      <td>4.033631</td>\n",
       "      <td>2606</td>\n",
       "    </tr>\n",
       "    <tr>\n",
       "      <th>4021</th>\n",
       "      <td>Иван</td>\n",
       "      <td>Николаевич</td>\n",
       "      <td>Семушин</td>\n",
       "      <td>28751</td>\n",
       "      <td>3.984042</td>\n",
       "      <td>3643</td>\n",
       "    </tr>\n",
       "    <tr>\n",
       "      <th>3904</th>\n",
       "      <td>Михаил</td>\n",
       "      <td>Владимирович</td>\n",
       "      <td>Савченков</td>\n",
       "      <td>27822</td>\n",
       "      <td>3.895232</td>\n",
       "      <td>3048</td>\n",
       "    </tr>\n",
       "    <tr>\n",
       "      <th>4207</th>\n",
       "      <td>Артём</td>\n",
       "      <td>Сергеевич</td>\n",
       "      <td>Сорожкин</td>\n",
       "      <td>30152</td>\n",
       "      <td>3.815794</td>\n",
       "      <td>4721</td>\n",
       "    </tr>\n",
       "    <tr>\n",
       "      <th>4227</th>\n",
       "      <td>Сергей</td>\n",
       "      <td>Леонидович</td>\n",
       "      <td>Спешков</td>\n",
       "      <td>30270</td>\n",
       "      <td>3.815682</td>\n",
       "      <td>3570</td>\n",
       "    </tr>\n",
       "    <tr>\n",
       "      <th>2908</th>\n",
       "      <td>Станислав</td>\n",
       "      <td>Григорьевич</td>\n",
       "      <td>Мереминский</td>\n",
       "      <td>20691</td>\n",
       "      <td>3.691022</td>\n",
       "      <td>1548</td>\n",
       "    </tr>\n",
       "    <tr>\n",
       "      <th>2553</th>\n",
       "      <td>Михаил</td>\n",
       "      <td>Ильич</td>\n",
       "      <td>Левандовский</td>\n",
       "      <td>18036</td>\n",
       "      <td>3.639104</td>\n",
       "      <td>1365</td>\n",
       "    </tr>\n",
       "    <tr>\n",
       "      <th>3202</th>\n",
       "      <td>Сергей</td>\n",
       "      <td>Игоревич</td>\n",
       "      <td>Николенко</td>\n",
       "      <td>22799</td>\n",
       "      <td>3.564362</td>\n",
       "      <td>2093</td>\n",
       "    </tr>\n",
       "    <tr>\n",
       "      <th>3652</th>\n",
       "      <td>Ирина</td>\n",
       "      <td>Сергеевна</td>\n",
       "      <td>Прокофьева</td>\n",
       "      <td>26089</td>\n",
       "      <td>3.561361</td>\n",
       "      <td>939</td>\n",
       "    </tr>\n",
       "    <tr>\n",
       "      <th>3218</th>\n",
       "      <td>Илья</td>\n",
       "      <td>Сергеевич</td>\n",
       "      <td>Новиков</td>\n",
       "      <td>22935</td>\n",
       "      <td>3.553650</td>\n",
       "      <td>1589</td>\n",
       "    </tr>\n",
       "    <tr>\n",
       "      <th>2594</th>\n",
       "      <td>Александр</td>\n",
       "      <td>Витальевич</td>\n",
       "      <td>Либер</td>\n",
       "      <td>18332</td>\n",
       "      <td>3.521466</td>\n",
       "      <td>3625</td>\n",
       "    </tr>\n",
       "    <tr>\n",
       "      <th>9258</th>\n",
       "      <td>Антон</td>\n",
       "      <td>Владимирович</td>\n",
       "      <td>Саксонов</td>\n",
       "      <td>87637</td>\n",
       "      <td>3.518010</td>\n",
       "      <td>1122</td>\n",
       "    </tr>\n",
       "    <tr>\n",
       "      <th>4758</th>\n",
       "      <td>Михаил</td>\n",
       "      <td>Сергеевич</td>\n",
       "      <td>Царёв</td>\n",
       "      <td>34328</td>\n",
       "      <td>3.516681</td>\n",
       "      <td>454</td>\n",
       "    </tr>\n",
       "    <tr>\n",
       "      <th>1903</th>\n",
       "      <td>Дмитрий</td>\n",
       "      <td>Александрович</td>\n",
       "      <td>Карякин</td>\n",
       "      <td>13689</td>\n",
       "      <td>3.512357</td>\n",
       "      <td>1221</td>\n",
       "    </tr>\n",
       "    <tr>\n",
       "      <th>3052</th>\n",
       "      <td>Александр</td>\n",
       "      <td>Владимирович</td>\n",
       "      <td>Мосягин</td>\n",
       "      <td>21698</td>\n",
       "      <td>3.508401</td>\n",
       "      <td>1067</td>\n",
       "    </tr>\n",
       "    <tr>\n",
       "      <th>8107</th>\n",
       "      <td>Игорь</td>\n",
       "      <td>Викторович</td>\n",
       "      <td>Мокин</td>\n",
       "      <td>74001</td>\n",
       "      <td>3.499152</td>\n",
       "      <td>1129</td>\n",
       "    </tr>\n",
       "    <tr>\n",
       "      <th>2803</th>\n",
       "      <td>Александр</td>\n",
       "      <td>Валерьевич</td>\n",
       "      <td>Марков</td>\n",
       "      <td>19915</td>\n",
       "      <td>3.494589</td>\n",
       "      <td>2856</td>\n",
       "    </tr>\n",
       "    <tr>\n",
       "      <th>981</th>\n",
       "      <td>Алексей</td>\n",
       "      <td>Владимирович</td>\n",
       "      <td>Гилёв</td>\n",
       "      <td>7008</td>\n",
       "      <td>3.494416</td>\n",
       "      <td>4187</td>\n",
       "    </tr>\n",
       "    <tr>\n",
       "      <th>3019</th>\n",
       "      <td>Борис</td>\n",
       "      <td>Яковлевич</td>\n",
       "      <td>Моносов</td>\n",
       "      <td>21487</td>\n",
       "      <td>3.490175</td>\n",
       "      <td>1056</td>\n",
       "    </tr>\n",
       "    <tr>\n",
       "      <th>2573</th>\n",
       "      <td>Мария</td>\n",
       "      <td>Владимировна</td>\n",
       "      <td>Кленницкая</td>\n",
       "      <td>18194</td>\n",
       "      <td>3.483697</td>\n",
       "      <td>1125</td>\n",
       "    </tr>\n",
       "    <tr>\n",
       "      <th>226</th>\n",
       "      <td>Юлия</td>\n",
       "      <td>Сергеевна</td>\n",
       "      <td>Архангельская</td>\n",
       "      <td>1585</td>\n",
       "      <td>3.477818</td>\n",
       "      <td>1614</td>\n",
       "    </tr>\n",
       "    <tr>\n",
       "      <th>2378</th>\n",
       "      <td>Наталья</td>\n",
       "      <td>Алексеевна</td>\n",
       "      <td>Кудряшова</td>\n",
       "      <td>16837</td>\n",
       "      <td>3.476418</td>\n",
       "      <td>2508</td>\n",
       "    </tr>\n",
       "    <tr>\n",
       "      <th>2846</th>\n",
       "      <td>Михаил</td>\n",
       "      <td>Леонидович</td>\n",
       "      <td>Матвеев</td>\n",
       "      <td>20207</td>\n",
       "      <td>3.473093</td>\n",
       "      <td>989</td>\n",
       "    </tr>\n",
       "    <tr>\n",
       "      <th>2304</th>\n",
       "      <td>Николай</td>\n",
       "      <td>Валерьевич</td>\n",
       "      <td>Крапиль</td>\n",
       "      <td>16332</td>\n",
       "      <td>3.466441</td>\n",
       "      <td>1652</td>\n",
       "    </tr>\n",
       "    <tr>\n",
       "      <th>6671</th>\n",
       "      <td>Наталья</td>\n",
       "      <td>Евгеньевна</td>\n",
       "      <td>Горелова</td>\n",
       "      <td>56647</td>\n",
       "      <td>3.464537</td>\n",
       "      <td>2021</td>\n",
       "    </tr>\n",
       "    <tr>\n",
       "      <th>8145</th>\n",
       "      <td>Михаил</td>\n",
       "      <td>Андреевич</td>\n",
       "      <td>Новосёлов</td>\n",
       "      <td>74382</td>\n",
       "      <td>3.454255</td>\n",
       "      <td>2912</td>\n",
       "    </tr>\n",
       "    <tr>\n",
       "      <th>3423</th>\n",
       "      <td>Евгений</td>\n",
       "      <td>Александрович</td>\n",
       "      <td>Пашковский</td>\n",
       "      <td>24384</td>\n",
       "      <td>3.453806</td>\n",
       "      <td>1436</td>\n",
       "    </tr>\n",
       "    <tr>\n",
       "      <th>4839</th>\n",
       "      <td>Антон</td>\n",
       "      <td>Анатольевич</td>\n",
       "      <td>Чернин</td>\n",
       "      <td>34846</td>\n",
       "      <td>3.446622</td>\n",
       "      <td>1496</td>\n",
       "    </tr>\n",
       "    <tr>\n",
       "      <th>2069</th>\n",
       "      <td>Николай</td>\n",
       "      <td>Александрович</td>\n",
       "      <td>Коврижных</td>\n",
       "      <td>14786</td>\n",
       "      <td>3.443713</td>\n",
       "      <td>2939</td>\n",
       "    </tr>\n",
       "    <tr>\n",
       "      <th>870</th>\n",
       "      <td>Юрий</td>\n",
       "      <td>Яковлевич</td>\n",
       "      <td>Выменец</td>\n",
       "      <td>6212</td>\n",
       "      <td>3.435507</td>\n",
       "      <td>3144</td>\n",
       "    </tr>\n",
       "    <tr>\n",
       "      <th>3343</th>\n",
       "      <td>Андрей</td>\n",
       "      <td>Вячеславович</td>\n",
       "      <td>Островский</td>\n",
       "      <td>23737</td>\n",
       "      <td>3.433691</td>\n",
       "      <td>2565</td>\n",
       "    </tr>\n",
       "    <tr>\n",
       "      <th>591</th>\n",
       "      <td>Сусанна</td>\n",
       "      <td>Марковна</td>\n",
       "      <td>Бровер</td>\n",
       "      <td>4226</td>\n",
       "      <td>3.422144</td>\n",
       "      <td>600</td>\n",
       "    </tr>\n",
       "    <tr>\n",
       "      <th>2814</th>\n",
       "      <td>Александр</td>\n",
       "      <td>Ефимович</td>\n",
       "      <td>Мартынов</td>\n",
       "      <td>20001</td>\n",
       "      <td>3.408657</td>\n",
       "      <td>1512</td>\n",
       "    </tr>\n",
       "    <tr>\n",
       "      <th>1270</th>\n",
       "      <td>Евгений</td>\n",
       "      <td>Васильевич</td>\n",
       "      <td>Дёмин</td>\n",
       "      <td>9061</td>\n",
       "      <td>3.407101</td>\n",
       "      <td>490</td>\n",
       "    </tr>\n",
       "    <tr>\n",
       "      <th>5144</th>\n",
       "      <td>Мария</td>\n",
       "      <td>Алексеевна</td>\n",
       "      <td>Юнгер</td>\n",
       "      <td>37047</td>\n",
       "      <td>3.402721</td>\n",
       "      <td>634</td>\n",
       "    </tr>\n",
       "    <tr>\n",
       "      <th>5262</th>\n",
       "      <td>Дмитрий</td>\n",
       "      <td>Николаевич</td>\n",
       "      <td>Петров</td>\n",
       "      <td>37718</td>\n",
       "      <td>3.399651</td>\n",
       "      <td>2459</td>\n",
       "    </tr>\n",
       "    <tr>\n",
       "      <th>68</th>\n",
       "      <td>Иделия</td>\n",
       "      <td>Мукадясовна</td>\n",
       "      <td>Айзятулова</td>\n",
       "      <td>505</td>\n",
       "      <td>3.398242</td>\n",
       "      <td>2091</td>\n",
       "    </tr>\n",
       "    <tr>\n",
       "      <th>2216</th>\n",
       "      <td>Александр</td>\n",
       "      <td>Геннадьевич</td>\n",
       "      <td>Коробейников</td>\n",
       "      <td>15727</td>\n",
       "      <td>3.397773</td>\n",
       "      <td>1401</td>\n",
       "    </tr>\n",
       "    <tr>\n",
       "      <th>4591</th>\n",
       "      <td>Татьяна</td>\n",
       "      <td>Евгеньевна</td>\n",
       "      <td>Фёдорова</td>\n",
       "      <td>33032</td>\n",
       "      <td>3.395483</td>\n",
       "      <td>3161</td>\n",
       "    </tr>\n",
       "    <tr>\n",
       "      <th>4222</th>\n",
       "      <td>Евгений</td>\n",
       "      <td>Павлович</td>\n",
       "      <td>Спектор</td>\n",
       "      <td>30260</td>\n",
       "      <td>3.393789</td>\n",
       "      <td>266</td>\n",
       "    </tr>\n",
       "    <tr>\n",
       "      <th>4578</th>\n",
       "      <td>Наиль</td>\n",
       "      <td>Евгеньевич</td>\n",
       "      <td>Фарукшин</td>\n",
       "      <td>32901</td>\n",
       "      <td>3.378215</td>\n",
       "      <td>3066</td>\n",
       "    </tr>\n",
       "    <tr>\n",
       "      <th>5519</th>\n",
       "      <td>Дмитрий</td>\n",
       "      <td>Сергеевич</td>\n",
       "      <td>Кудинов</td>\n",
       "      <td>40411</td>\n",
       "      <td>3.374331</td>\n",
       "      <td>45</td>\n",
       "    </tr>\n",
       "    <tr>\n",
       "      <th>4012</th>\n",
       "      <td>Инна</td>\n",
       "      <td>Валентиновна</td>\n",
       "      <td>Семёнова</td>\n",
       "      <td>28689</td>\n",
       "      <td>3.360740</td>\n",
       "      <td>2418</td>\n",
       "    </tr>\n",
       "    <tr>\n",
       "      <th>3773</th>\n",
       "      <td>Александр</td>\n",
       "      <td>Александрович</td>\n",
       "      <td>Фингеров</td>\n",
       "      <td>26911</td>\n",
       "      <td>3.358148</td>\n",
       "      <td>1450</td>\n",
       "    </tr>\n",
       "    <tr>\n",
       "      <th>2189</th>\n",
       "      <td>Кристина</td>\n",
       "      <td>Олеговна</td>\n",
       "      <td>Кораблина</td>\n",
       "      <td>15595</td>\n",
       "      <td>3.352202</td>\n",
       "      <td>2761</td>\n",
       "    </tr>\n",
       "    <tr>\n",
       "      <th>5325</th>\n",
       "      <td>Артём</td>\n",
       "      <td>Александрович</td>\n",
       "      <td>Митрофанов</td>\n",
       "      <td>38196</td>\n",
       "      <td>3.337317</td>\n",
       "      <td>757</td>\n",
       "    </tr>\n",
       "    <tr>\n",
       "      <th>3253</th>\n",
       "      <td>Елизавета</td>\n",
       "      <td>Сергеевна</td>\n",
       "      <td>Овдеенко</td>\n",
       "      <td>23178</td>\n",
       "      <td>3.331004</td>\n",
       "      <td>2164</td>\n",
       "    </tr>\n",
       "    <tr>\n",
       "      <th>3274</th>\n",
       "      <td>Дмитрий</td>\n",
       "      <td>Сергеевич</td>\n",
       "      <td>Ожигов</td>\n",
       "      <td>23321</td>\n",
       "      <td>3.329317</td>\n",
       "      <td>3698</td>\n",
       "    </tr>\n",
       "    <tr>\n",
       "      <th>2973</th>\n",
       "      <td>Кирилл</td>\n",
       "      <td>Игоревич</td>\n",
       "      <td>Михайлов</td>\n",
       "      <td>21137</td>\n",
       "      <td>3.318996</td>\n",
       "      <td>690</td>\n",
       "    </tr>\n",
       "  </tbody>\n",
       "</table>\n",
       "</div>"
      ],
      "text/plain": [
       "            name     patronymic        surname  player_ids  strength     0\n",
       "3832      Максим     Михайлович          Руссо       27403  4.164988  2092\n",
       "601   Александра   Владимировна         Брутер        4270  4.033631  2606\n",
       "4021        Иван     Николаевич        Семушин       28751  3.984042  3643\n",
       "3904      Михаил   Владимирович      Савченков       27822  3.895232  3048\n",
       "4207       Артём      Сергеевич       Сорожкин       30152  3.815794  4721\n",
       "4227      Сергей     Леонидович        Спешков       30270  3.815682  3570\n",
       "2908   Станислав    Григорьевич    Мереминский       20691  3.691022  1548\n",
       "2553      Михаил          Ильич   Левандовский       18036  3.639104  1365\n",
       "3202      Сергей       Игоревич      Николенко       22799  3.564362  2093\n",
       "3652       Ирина      Сергеевна     Прокофьева       26089  3.561361   939\n",
       "3218        Илья      Сергеевич        Новиков       22935  3.553650  1589\n",
       "2594   Александр     Витальевич          Либер       18332  3.521466  3625\n",
       "9258       Антон   Владимирович       Саксонов       87637  3.518010  1122\n",
       "4758      Михаил      Сергеевич          Царёв       34328  3.516681   454\n",
       "1903     Дмитрий  Александрович        Карякин       13689  3.512357  1221\n",
       "3052   Александр   Владимирович        Мосягин       21698  3.508401  1067\n",
       "8107       Игорь     Викторович          Мокин       74001  3.499152  1129\n",
       "2803   Александр     Валерьевич         Марков       19915  3.494589  2856\n",
       "981      Алексей   Владимирович          Гилёв        7008  3.494416  4187\n",
       "3019       Борис      Яковлевич        Моносов       21487  3.490175  1056\n",
       "2573       Мария   Владимировна     Кленницкая       18194  3.483697  1125\n",
       "226         Юлия      Сергеевна  Архангельская        1585  3.477818  1614\n",
       "2378     Наталья     Алексеевна      Кудряшова       16837  3.476418  2508\n",
       "2846      Михаил     Леонидович        Матвеев       20207  3.473093   989\n",
       "2304     Николай     Валерьевич        Крапиль       16332  3.466441  1652\n",
       "6671     Наталья     Евгеньевна       Горелова       56647  3.464537  2021\n",
       "8145      Михаил      Андреевич      Новосёлов       74382  3.454255  2912\n",
       "3423     Евгений  Александрович     Пашковский       24384  3.453806  1436\n",
       "4839       Антон    Анатольевич         Чернин       34846  3.446622  1496\n",
       "2069     Николай  Александрович      Коврижных       14786  3.443713  2939\n",
       "870         Юрий      Яковлевич        Выменец        6212  3.435507  3144\n",
       "3343      Андрей   Вячеславович     Островский       23737  3.433691  2565\n",
       "591      Сусанна       Марковна         Бровер        4226  3.422144   600\n",
       "2814   Александр       Ефимович       Мартынов       20001  3.408657  1512\n",
       "1270     Евгений     Васильевич          Дёмин        9061  3.407101   490\n",
       "5144       Мария     Алексеевна          Юнгер       37047  3.402721   634\n",
       "5262     Дмитрий     Николаевич         Петров       37718  3.399651  2459\n",
       "68        Иделия    Мукадясовна     Айзятулова         505  3.398242  2091\n",
       "2216   Александр    Геннадьевич   Коробейников       15727  3.397773  1401\n",
       "4591     Татьяна     Евгеньевна       Фёдорова       33032  3.395483  3161\n",
       "4222     Евгений       Павлович        Спектор       30260  3.393789   266\n",
       "4578       Наиль     Евгеньевич       Фарукшин       32901  3.378215  3066\n",
       "5519     Дмитрий      Сергеевич        Кудинов       40411  3.374331    45\n",
       "4012        Инна   Валентиновна       Семёнова       28689  3.360740  2418\n",
       "3773   Александр  Александрович       Фингеров       26911  3.358148  1450\n",
       "2189    Кристина       Олеговна      Кораблина       15595  3.352202  2761\n",
       "5325       Артём  Александрович     Митрофанов       38196  3.337317   757\n",
       "3253   Елизавета      Сергеевна       Овдеенко       23178  3.331004  2164\n",
       "3274     Дмитрий      Сергеевич         Ожигов       23321  3.329317  3698\n",
       "2973      Кирилл       Игоревич       Михайлов       21137  3.318996   690"
      ]
     },
     "execution_count": 16,
     "metadata": {},
     "output_type": "execute_result"
    }
   ],
   "source": [
    "rating.sort_values(by='strength', ascending=False).head(50)"
   ]
  },
  {
   "cell_type": "markdown",
   "metadata": {
    "id": "EdG6XIB27W1I"
   },
   "source": [
    "**Качество рейтинг-системы оценивается качеством предсказаний результатов турниров. Но сами повопросные результаты наши модели предсказывать вряд ли смогут, ведь неизвестно, насколько сложными окажутся вопросы в будущих турнирах; да и не нужны эти предсказания сами по себе. Поэтому:**\n",
    "\n",
    "1) предложите способ предсказать результаты нового турнира с известными составами, но неизвестными вопросами, в виде ранжирования команд;\n",
    "\n",
    "2) в качестве метрики качества на тестовом наборе давайте считать ранговые корреляции Спирмена и Кендалла (их можно взять в пакете scipy) между реальным ранжированием в результатах турнира и предсказанным моделью, усреднённые по тестовому множеству турниров."
   ]
  },
  {
   "cell_type": "code",
   "execution_count": 17,
   "metadata": {
    "colab": {
     "base_uri": "https://localhost:8080/",
     "height": 355
    },
    "id": "DeKEbTYAAbG4",
    "outputId": "6a53e4d2-c46e-43dd-84a6-4e61559c3a26"
   },
   "outputs": [
    {
     "data": {
      "text/plain": [
       "Text(0.5, 1.0, 'Распределение сложености вопросов')"
      ]
     },
     "execution_count": 17,
     "metadata": {},
     "output_type": "execute_result"
    },
    {
     "data": {
      "image/png": "[encoded data removed]",
      "text/plain": [
       "<Figure size 720x360 with 2 Axes>"
      ]
     },
     "metadata": {
      "needs_background": "light"
     },
     "output_type": "display_data"
    }
   ],
   "source": [
    "fig, (ax1, ax2) = plt.subplots(1, 2, figsize=(10,5))\n",
    "\n",
    "ax1.hist(rating[[\"strength\"]].values, bins=20)\n",
    "ax1.set_title('Распределение навыка игроков')\n",
    "ax2.hist(log_reg.coef_[0][len(all_pl):], bins=20)\n",
    "ax2.set_title('Распределение сложености вопросов')"
   ]
  },
  {
   "cell_type": "code",
   "execution_count": 18,
   "metadata": {
    "colab": {
     "base_uri": "https://localhost:8080/"
    },
    "id": "rSSx1NtIDVSo",
    "outputId": "8fa61d59-2cf1-4dc1-a4f8-6dda761d952a"
   },
   "outputs": [
    {
     "data": {
      "text/plain": [
       "-0.00011139415735723506"
      ]
     },
     "execution_count": 18,
     "metadata": {},
     "output_type": "execute_result"
    }
   ],
   "source": [
    "log_reg.coef_[0][len(all_pl):].mean()"
   ]
  },
  {
   "cell_type": "code",
   "execution_count": 19,
   "metadata": {
    "id": "4coahy7MEsJm"
   },
   "outputs": [],
   "source": [
    "middle_question = np.abs(log_reg.coef_[0][len(all_pl):]).min()\n",
    "question_index = np.where(log_reg.coef_[0][len(all_pl):] == middle_question)\n",
    "middle_question = ohe_questions.categories_[0][question_index[0][0]]"
   ]
  },
  {
   "cell_type": "code",
   "execution_count": 20,
   "metadata": {
    "id": "0q97Gpf2Rw7E"
   },
   "outputs": [],
   "source": [
    "test_tourn_res = []\n",
    "\n",
    "for tourn_id in df_test_tournaments.index:\n",
    "    tourn_res = results_data[tourn_id]\n",
    "    total_questions = set()\n",
    "    data_tournament_results = []\n",
    "    mask = \"\"\n",
    "    for team in tourn_res:\n",
    "        if team.get('mask') is not None:\n",
    "            total_questions.add(len(team['mask'].replace(\"?\", \"\").replace(\"X\", \"\")))\n",
    "        else:\n",
    "            continue\n",
    "  \n",
    "    if len(total_questions) > 1:\n",
    "        continue\n",
    "    for team_res in tourn_res:  \n",
    "        tmp = {'tourn_id': [],\n",
    "               'mask': [],\n",
    "               'team_id': [],\n",
    "               'pos': [],\n",
    "               'player_ids': []}\n",
    "        if team_res.get(\"mask\") is None or team_res.get(\"teamMembers\") is None or len(team_res[\"teamMembers\"]) < 1:\n",
    "                continue\n",
    "        mask = team_res[\"mask\"].replace(\"?\", \"\").replace(\"X\", \"\")\n",
    "        tmp['tourn_id'] =  tourn_id\n",
    "        tmp['mask'] = list(map(int, mask))\n",
    "        tmp['pos'] = team_res['position']\n",
    "        tmp['team_id'] = team_res['team']['id']\n",
    "\n",
    "        tmp['player_ids'] = [player[\"player\"][\"id\"] for player in team_res[\"teamMembers\"]]\n",
    "        data_tournament_results.append(tmp)\n",
    "    if mask:\n",
    "        test_tourn_res.append(data_tournament_results)"
   ]
  },
  {
   "cell_type": "markdown",
   "metadata": {
    "id": "DHseEEkeFM6b"
   },
   "source": [
    "Попробуем по-другому считать скилл команды. Будем считать вероятность правильного ответа команды на \"средний\" вопрос по формуле:  \n",
    "\n",
    "$S = 1 - Π_{i∈team}(1 - σ[s_i, mq]), \\sigma$  - вероятность игрока из команды ответить на вопрос"
   ]
  },
  {
   "cell_type": "code",
   "execution_count": 21,
   "metadata": {
    "colab": {
     "base_uri": "https://localhost:8080/"
    },
    "id": "o86qQqnDFDdk",
    "outputId": "088e860c-9884-45d6-de62-cff141c946a7"
   },
   "outputs": [
    {
     "name": "stderr",
     "output_type": "stream",
     "text": [
      "100%|████████████████████████████████████████████████████████████████████████████████| 165/165 [11:16<00:00,  4.10s/it]"
     ]
    },
    {
     "name": "stdout",
     "output_type": "stream",
     "text": [
      "Spearman correlation: 0.806283032151602\n",
      "Kendall correlation: 0.6484109106302081\n"
     ]
    },
    {
     "name": "stderr",
     "output_type": "stream",
     "text": [
      "\n"
     ]
    }
   ],
   "source": [
    "def calc_score(model):\n",
    "    test_results = {}\n",
    "    for tourn in tqdm(test_tourn_res):\n",
    "        tourn_res = {}\n",
    "        for team in tourn:            \n",
    "            g_truth = team['pos']\n",
    "            team_members = []\n",
    "            for player_id in team[\"player_ids\"]:\n",
    "                try:\n",
    "                    ohe_players.transform([[player_id]])\n",
    "                    team_members.append(player_id)\n",
    "                except ValueError:\n",
    "                    continue   \n",
    "            if len(team_members) == 0:\n",
    "                    continue\n",
    "            players_matrix = ohe_players.transform(np.array(team_members).reshape(-1, 1))\n",
    "            question_matrix = ohe_questions.transform(np.full((len(team_members), 1), middle_question))\n",
    "            tmp_dataset = hstack([players_matrix, question_matrix])\n",
    "            preds = model.predict_proba(tmp_dataset)[:, 1]\n",
    "            team_skill = 1 - np.product(1 - preds)\n",
    "            tourn_res[team[\"team_id\"]] = (team_skill, g_truth)\n",
    "        test_results[tourn[0][\"tourn_id\"]] = tourn_res\n",
    "\n",
    "    spearman_corr = []\n",
    "    kendall_corr = []\n",
    "\n",
    "    for tourn in test_results.values():\n",
    "        predicts = []\n",
    "        g_truth = []\n",
    "        for stat in tourn.values():        \n",
    "            predicts.append(stat[0])\n",
    "            g_truth.append(stat[1])\n",
    "        tmp = spearmanr(predicts, g_truth)[0]\n",
    "        spearman_corr.append(tmp)\n",
    "        tmp2 = kendalltau(predicts, g_truth)[0]\n",
    "        kendall_corr.append(tmp2)\n",
    "\n",
    "    spearman_corr_res = np.abs(np.mean([t for t in spearman_corr if np.isfinite(t)]))\n",
    "    kendall_corr_res = np.abs(np.mean([t for t in kendall_corr if np.isfinite(t)]))\n",
    "    return spearman_corr_res, kendall_corr_res\n",
    "\n",
    "spearman_corr_res, kendall_corr_res = calc_score(log_reg)\n",
    "print(f\"Spearman correlation: {spearman_corr_res}\")\n",
    "print(f\"Kendall correlation: {kendall_corr_res}\")"
   ]
  },
  {
   "cell_type": "markdown",
   "metadata": {
    "id": "Hb_Xg8J1Q3Yi"
   },
   "source": [
    "**4.Теперь главное: ЧГК — это всё-таки командная игра. Поэтому:**\n",
    "\n",
    "a) предложите способ учитывать то, что на вопрос отвечают сразу несколько игроков; скорее всего, понадобятся скрытые переменные; не стесняйтесь делать упрощающие предположения, но теперь переменные “игрок X ответил на вопрос Y” при условии данных должны стать зависимыми для игроков одной и той же команды;\n",
    "\n",
    "b) разработайте EM-схему для обучения этой модели, реализуйте её в коде;\n",
    "\n",
    "c) обучите несколько итераций, убедитесь, что целевые метрики со временем растут (скорее всего, ненамного, но расти должны), выберите лучшую модель, используя целевые метрики."
   ]
  },
  {
   "cell_type": "markdown",
   "metadata": {
    "id": "mEivvqsOQ5NG"
   },
   "source": [
    "* E-шаг: находим мат. ожидания $z_i{}_j$ (мат. ожидание того, что игрок i правильно ответил на вопрос j). \n",
    "\n",
    "1) $E[z_i{}_j] = 0$, если вся команда не ответила на вопрос $j$.\n",
    "\n",
    "2) $E[z_i{}_j] = \\frac{\\sigma [skill_i, question_j]}{1 - \\prod_{n \\in team} (1 - \\sigma [skill_n, question_j])}$, если комада ответила на вопрос $j$. \n",
    "\n",
    "Формулу из п.2 получаем по теореме Байеса: \n",
    "\n",
    "Пусть событие A - команда правильно ответила на вопрос. Тогда событие B - игрок из команды правильно ответил на вопрос.\n",
    "\n",
    "$P(B|A) = \\frac{P(A|B)P(B)}{P(A)}$; $P(A|B) = 1$ (если игрок ответил на вопрос, то и комада ответила на вопрос). В таком случае: $P(B|A) = \\frac{P(B)}{P(A)}$\n",
    "\n",
    "* M-шаг: пересчитываем параметры логистической регрессии, используя новые z."
   ]
  },
  {
   "cell_type": "code",
   "execution_count": 22,
   "metadata": {
    "id": "Sgt_i-4QRFog"
   },
   "outputs": [],
   "source": [
    "def step_e(model, data, target):\n",
    "    e_z = []\n",
    "    predict_prob = model.predict_proba(data)[:, 1]\n",
    "    start = 0\n",
    "    for team in tqdm(train_tourn_res):\n",
    "        team_size = len(team[\"player_ids\"])\n",
    "        mask_size = len(team[\"mask\"])\n",
    "        team_preds = predict_prob[start : start + team_size * mask_size]\n",
    "        team_answers = predict_prob[start: start + team_size * mask_size]\n",
    "        true_team_answers = target[start: start + mask_size]\n",
    "        team_answers = team_answers.reshape((-1, mask_size)).T\n",
    "        p_z = 1 - np.prod(1 - team_answers, axis=1)\n",
    "        team_answers = team_answers / p_z.reshape(-1, 1)\n",
    "        team_answers = np.where(true_team_answers != 0, team_answers, 0)\n",
    "        predict_prob[start: start + team_size * mask_size] = team_answers.T.reshape(-1) \n",
    "        start += team_size * mask_size   \n",
    "    return predict_prob\n",
    "\n",
    "def step_m(e_z, dataset):\n",
    "    e_z = np.array(e_z)\n",
    "    fst_target = np.full((dataset.shape[0], 1), 0)\n",
    "    sec_target = np.full((dataset.shape[0], 1), 1)\n",
    "    targets = np.vstack((fst_target, sec_target))\n",
    "    x = vstack([dataset, dataset])\n",
    "    sample_weights = np.hstack((1 - e_z, e_z))\n",
    "    model = LogisticRegression(solver=\"saga\")\n",
    "    model.fit(x, targets, sample_weight=sample_weights)\n",
    "    return model"
   ]
  },
  {
   "cell_type": "code",
   "execution_count": 23,
   "metadata": {},
   "outputs": [
    {
     "name": "stderr",
     "output_type": "stream",
     "text": [
      "100%|█████████████████████████████████████████████████████████████████████████| 76490/76490 [00:00<00:00, 78702.17it/s]\n",
      "D:\\Program Files\\Anaconda\\lib\\site-packages\\sklearn\\utils\\validation.py:993: DataConversionWarning: A column-vector y was passed when a 1d array was expected. Please change the shape of y to (n_samples, ), for example using ravel().\n",
      "  y = column_or_1d(y, warn=True)\n",
      "100%|████████████████████████████████████████████████████████████████████████████████| 165/165 [11:22<00:00,  4.13s/it]\n"
     ]
    },
    {
     "name": "stdout",
     "output_type": "stream",
     "text": [
      "Spearman correlation: 0.8132039174783648\n",
      "Kendall correlation: 0.6552289057695223\n"
     ]
    },
    {
     "name": "stderr",
     "output_type": "stream",
     "text": [
      "100%|█████████████████████████████████████████████████████████████████████████| 76490/76490 [00:00<00:00, 80626.29it/s]\n",
      "D:\\Program Files\\Anaconda\\lib\\site-packages\\sklearn\\utils\\validation.py:993: DataConversionWarning: A column-vector y was passed when a 1d array was expected. Please change the shape of y to (n_samples, ), for example using ravel().\n",
      "  y = column_or_1d(y, warn=True)\n",
      "100%|████████████████████████████████████████████████████████████████████████████████| 165/165 [11:24<00:00,  4.15s/it]\n"
     ]
    },
    {
     "name": "stdout",
     "output_type": "stream",
     "text": [
      "Spearman correlation: 0.8131878388953905\n",
      "Kendall correlation: 0.6551355564978731\n"
     ]
    },
    {
     "name": "stderr",
     "output_type": "stream",
     "text": [
      "100%|█████████████████████████████████████████████████████████████████████████| 76490/76490 [00:00<00:00, 82859.98it/s]\n",
      "D:\\Program Files\\Anaconda\\lib\\site-packages\\sklearn\\utils\\validation.py:993: DataConversionWarning: A column-vector y was passed when a 1d array was expected. Please change the shape of y to (n_samples, ), for example using ravel().\n",
      "  y = column_or_1d(y, warn=True)\n",
      "100%|████████████████████████████████████████████████████████████████████████████████| 165/165 [10:59<00:00,  4.00s/it]\n"
     ]
    },
    {
     "name": "stdout",
     "output_type": "stream",
     "text": [
      "Spearman correlation: 0.8123023389546691\n",
      "Kendall correlation: 0.6547766253413242\n"
     ]
    },
    {
     "name": "stderr",
     "output_type": "stream",
     "text": [
      "100%|█████████████████████████████████████████████████████████████████████████| 76490/76490 [00:00<00:00, 81823.68it/s]\n",
      "D:\\Program Files\\Anaconda\\lib\\site-packages\\sklearn\\utils\\validation.py:993: DataConversionWarning: A column-vector y was passed when a 1d array was expected. Please change the shape of y to (n_samples, ), for example using ravel().\n",
      "  y = column_or_1d(y, warn=True)\n",
      "100%|████████████████████████████████████████████████████████████████████████████████| 165/165 [11:02<00:00,  4.01s/it]\n"
     ]
    },
    {
     "name": "stdout",
     "output_type": "stream",
     "text": [
      "Spearman correlation: 0.8118777930165298\n",
      "Kendall correlation: 0.6551921300614594\n"
     ]
    },
    {
     "name": "stderr",
     "output_type": "stream",
     "text": [
      "100%|█████████████████████████████████████████████████████████████████████████| 76490/76490 [00:01<00:00, 74699.34it/s]\n",
      "D:\\Program Files\\Anaconda\\lib\\site-packages\\sklearn\\utils\\validation.py:993: DataConversionWarning: A column-vector y was passed when a 1d array was expected. Please change the shape of y to (n_samples, ), for example using ravel().\n",
      "  y = column_or_1d(y, warn=True)\n",
      "100%|████████████████████████████████████████████████████████████████████████████████| 165/165 [10:57<00:00,  3.99s/it]\n"
     ]
    },
    {
     "name": "stdout",
     "output_type": "stream",
     "text": [
      "Spearman correlation: 0.8116375671561493\n",
      "Kendall correlation: 0.654875906962823\n"
     ]
    },
    {
     "name": "stderr",
     "output_type": "stream",
     "text": [
      "100%|█████████████████████████████████████████████████████████████████████████| 76490/76490 [00:00<00:00, 81665.80it/s]\n",
      "D:\\Program Files\\Anaconda\\lib\\site-packages\\sklearn\\utils\\validation.py:993: DataConversionWarning: A column-vector y was passed when a 1d array was expected. Please change the shape of y to (n_samples, ), for example using ravel().\n",
      "  y = column_or_1d(y, warn=True)\n",
      "100%|████████████████████████████████████████████████████████████████████████████████| 165/165 [11:06<00:00,  4.04s/it]"
     ]
    },
    {
     "name": "stdout",
     "output_type": "stream",
     "text": [
      "Spearman correlation: 0.8116328881729166\n",
      "Kendall correlation: 0.6544071691055959\n"
     ]
    },
    {
     "name": "stderr",
     "output_type": "stream",
     "text": [
      "\n"
     ]
    }
   ],
   "source": [
    "models_list = []\n",
    "model = log_reg\n",
    "for i in range(6):\n",
    "    e_z = step_e(model, dataset, target)\n",
    "    model = step_m(e_z, dataset)\n",
    "    models_list.append(model)\n",
    "    spearman_corr, kendall_corr = calc_score(model)\n",
    "    print(f\"Spearman correlation: {spearman_corr}\")\n",
    "    print(f\"Kendall correlation: {kendall_corr}\")"
   ]
  },
  {
   "cell_type": "code",
   "execution_count": 24,
   "metadata": {},
   "outputs": [],
   "source": [
    "best_model = models_list[0]"
   ]
  },
  {
   "cell_type": "markdown",
   "metadata": {
    "id": "9FlUoNYNjwIb"
   },
   "source": []
  },
  {
   "cell_type": "markdown",
   "metadata": {},
   "source": [
    "**5. А что там с вопросами? Постройте “рейтинг-лист” турниров по сложности вопросов. Соответствует ли он интуиции (например, на чемпионате мира в целом должны быть сложные вопросы, а на турнирах для школьников — простые)? Если будет интересно: постройте топ сложных и простых вопросов со ссылками на конкретные записи в базе вопросов ЧГК (это чисто техническое дело, тут никакого ML нету).**\n"
   ]
  },
  {
   "cell_type": "code",
   "execution_count": 47,
   "metadata": {},
   "outputs": [
    {
     "data": {
      "image/png": "[encoded data removed]",
      "text/plain": [
       "<Figure size 432x288 with 1 Axes>"
      ]
     },
     "metadata": {
      "needs_background": "light"
     },
     "output_type": "display_data"
    }
   ],
   "source": [
    "plt.hist(best_model.coef_[0][len(all_pl):], bins=15)\n",
    "plt.title(\"Распределение сложности вопросов\")\n",
    "plt.show()"
   ]
  },
  {
   "cell_type": "code",
   "execution_count": 48,
   "metadata": {},
   "outputs": [],
   "source": [
    "tournaments = [[train_tourn_res[0][\"tourn_id\"], len(train_tourn_res[0][\"mask\"])]]\n",
    "for team in train_tourn_res:\n",
    "    tourn_id = team[\"tourn_id\"]\n",
    "    mask_size = len(team[\"mask\"])\n",
    "    if tournaments[-1] != [tourn_id, mask_size]:\n",
    "        tournaments.append([tourn_id, mask_size])\n",
    "quest_diff = best_model.coef_[0][len(all_pl):]\n",
    "tournament_diff = []\n",
    "i = 0\n",
    "for tourn in tournaments:\n",
    "    diff_in_tourn = np.array(quest_diff[i : i + tourn[1]])\n",
    "    tournament_diff.append([tourn[0], np.mean(diff_in_tourn)])\n",
    "    i += tourn[1]\n",
    "    \n",
    "# легкие турниры\n",
    "top_hardest = np.array(sorted(tournaments_difficulties, key=lambda x: x[1]))\n",
    "top_easiest = np.array(sorted(tournaments_difficulties, key=lambda x: x[1], reverse=True))\n",
    "# сложные турниры\n",
    "pd_top_hardest = pd.DataFrame(df_train_tournaments.loc[top_hardest[:, 0]].name)\n",
    "pd_top_easiest = pd.DataFrame(df_train_tournaments.loc[top_easiest[:, 0]].name)"
   ]
  },
  {
   "cell_type": "code",
   "execution_count": 49,
   "metadata": {},
   "outputs": [
    {
     "data": {
      "text/html": [
       "<div>\n",
       "<style scoped>\n",
       "    .dataframe tbody tr th:only-of-type {\n",
       "        vertical-align: middle;\n",
       "    }\n",
       "\n",
       "    .dataframe tbody tr th {\n",
       "        vertical-align: top;\n",
       "    }\n",
       "\n",
       "    .dataframe thead th {\n",
       "        text-align: right;\n",
       "    }\n",
       "</style>\n",
       "<table border=\"1\" class=\"dataframe\">\n",
       "  <thead>\n",
       "    <tr style=\"text-align: right;\">\n",
       "      <th></th>\n",
       "      <th>name</th>\n",
       "    </tr>\n",
       "    <tr>\n",
       "      <th>id</th>\n",
       "      <th></th>\n",
       "    </tr>\n",
       "  </thead>\n",
       "  <tbody>\n",
       "    <tr>\n",
       "      <th>5013.0</th>\n",
       "      <td>(а)Синхрон-lite. Лига старта. Эпизод V</td>\n",
       "    </tr>\n",
       "    <tr>\n",
       "      <th>5438.0</th>\n",
       "      <td>Синхрон Лиги Разума</td>\n",
       "    </tr>\n",
       "    <tr>\n",
       "      <th>5009.0</th>\n",
       "      <td>(а)Синхрон-lite. Лига старта. Эпизод III</td>\n",
       "    </tr>\n",
       "    <tr>\n",
       "      <th>5702.0</th>\n",
       "      <td>(а)Синхрон-lite. Лига старта. Эпизод IX</td>\n",
       "    </tr>\n",
       "    <tr>\n",
       "      <th>5698.0</th>\n",
       "      <td>(а)Синхрон-lite. Лига старта. Эпизод VII</td>\n",
       "    </tr>\n",
       "    <tr>\n",
       "      <th>5457.0</th>\n",
       "      <td>Студенческий чемпионат Калининградской области</td>\n",
       "    </tr>\n",
       "    <tr>\n",
       "      <th>5011.0</th>\n",
       "      <td>(а)Синхрон-lite. Лига старта. Эпизод IV</td>\n",
       "    </tr>\n",
       "    <tr>\n",
       "      <th>5313.0</th>\n",
       "      <td>(а)Синхрон-lite. Лига старта. Эпизод VI</td>\n",
       "    </tr>\n",
       "    <tr>\n",
       "      <th>5012.0</th>\n",
       "      <td>Школьный Синхрон-lite. Выпуск 2.5</td>\n",
       "    </tr>\n",
       "    <tr>\n",
       "      <th>5704.0</th>\n",
       "      <td>(а)Синхрон-lite. Лига старта. Эпизод X</td>\n",
       "    </tr>\n",
       "    <tr>\n",
       "      <th>6003.0</th>\n",
       "      <td>Второй тематический турнир имени Джоуи Триббиани</td>\n",
       "    </tr>\n",
       "    <tr>\n",
       "      <th>6008.0</th>\n",
       "      <td>Малый кубок Физтеха</td>\n",
       "    </tr>\n",
       "    <tr>\n",
       "      <th>5601.0</th>\n",
       "      <td>Межфакультетский кубок МГУ. Отбор №4</td>\n",
       "    </tr>\n",
       "    <tr>\n",
       "      <th>5729.0</th>\n",
       "      <td>Синхрон-lite. Выпуск XXX</td>\n",
       "    </tr>\n",
       "    <tr>\n",
       "      <th>5936.0</th>\n",
       "      <td>Школьная лига. I тур.</td>\n",
       "    </tr>\n",
       "    <tr>\n",
       "      <th>5855.0</th>\n",
       "      <td>Лига вузов. IV тур</td>\n",
       "    </tr>\n",
       "    <tr>\n",
       "      <th>5955.0</th>\n",
       "      <td>Школьная лига. III тур.</td>\n",
       "    </tr>\n",
       "    <tr>\n",
       "      <th>5008.0</th>\n",
       "      <td>Школьный Синхрон-lite. Выпуск 2.3</td>\n",
       "    </tr>\n",
       "    <tr>\n",
       "      <th>5511.0</th>\n",
       "      <td>KFC</td>\n",
       "    </tr>\n",
       "    <tr>\n",
       "      <th>5130.0</th>\n",
       "      <td>Лига Сибири. VI тур.</td>\n",
       "    </tr>\n",
       "  </tbody>\n",
       "</table>\n",
       "</div>"
      ],
      "text/plain": [
       "                                                    name\n",
       "id                                                      \n",
       "5013.0            (а)Синхрон-lite. Лига старта. Эпизод V\n",
       "5438.0                               Синхрон Лиги Разума\n",
       "5009.0          (а)Синхрон-lite. Лига старта. Эпизод III\n",
       "5702.0           (а)Синхрон-lite. Лига старта. Эпизод IX\n",
       "5698.0          (а)Синхрон-lite. Лига старта. Эпизод VII\n",
       "5457.0    Студенческий чемпионат Калининградской области\n",
       "5011.0           (а)Синхрон-lite. Лига старта. Эпизод IV\n",
       "5313.0           (а)Синхрон-lite. Лига старта. Эпизод VI\n",
       "5012.0                 Школьный Синхрон-lite. Выпуск 2.5\n",
       "5704.0            (а)Синхрон-lite. Лига старта. Эпизод X\n",
       "6003.0  Второй тематический турнир имени Джоуи Триббиани\n",
       "6008.0                               Малый кубок Физтеха\n",
       "5601.0              Межфакультетский кубок МГУ. Отбор №4\n",
       "5729.0                          Синхрон-lite. Выпуск XXX\n",
       "5936.0                             Школьная лига. I тур.\n",
       "5855.0                                Лига вузов. IV тур\n",
       "5955.0                           Школьная лига. III тур.\n",
       "5008.0                 Школьный Синхрон-lite. Выпуск 2.3\n",
       "5511.0                                               KFC\n",
       "5130.0                              Лига Сибири. VI тур."
      ]
     },
     "execution_count": 49,
     "metadata": {},
     "output_type": "execute_result"
    }
   ],
   "source": [
    "pd_top_easiest.head(20)"
   ]
  },
  {
   "cell_type": "code",
   "execution_count": 50,
   "metadata": {},
   "outputs": [
    {
     "data": {
      "text/html": [
       "<div>\n",
       "<style scoped>\n",
       "    .dataframe tbody tr th:only-of-type {\n",
       "        vertical-align: middle;\n",
       "    }\n",
       "\n",
       "    .dataframe tbody tr th {\n",
       "        vertical-align: top;\n",
       "    }\n",
       "\n",
       "    .dataframe thead th {\n",
       "        text-align: right;\n",
       "    }\n",
       "</style>\n",
       "<table border=\"1\" class=\"dataframe\">\n",
       "  <thead>\n",
       "    <tr style=\"text-align: right;\">\n",
       "      <th></th>\n",
       "      <th>name</th>\n",
       "    </tr>\n",
       "    <tr>\n",
       "      <th>id</th>\n",
       "      <th></th>\n",
       "    </tr>\n",
       "  </thead>\n",
       "  <tbody>\n",
       "    <tr>\n",
       "      <th>6149.0</th>\n",
       "      <td>Чемпионат Санкт-Петербурга. Первая лига</td>\n",
       "    </tr>\n",
       "    <tr>\n",
       "      <th>5928.0</th>\n",
       "      <td>Угрюмый Ёрш</td>\n",
       "    </tr>\n",
       "    <tr>\n",
       "      <th>5159.0</th>\n",
       "      <td>Первенство правого полушария</td>\n",
       "    </tr>\n",
       "    <tr>\n",
       "      <th>5684.0</th>\n",
       "      <td>Синхрон высшей лиги Москвы</td>\n",
       "    </tr>\n",
       "    <tr>\n",
       "      <th>5025.0</th>\n",
       "      <td>Кубок городов</td>\n",
       "    </tr>\n",
       "    <tr>\n",
       "      <th>6101.0</th>\n",
       "      <td>Воображаемый музей</td>\n",
       "    </tr>\n",
       "    <tr>\n",
       "      <th>5587.0</th>\n",
       "      <td>Записки охотника</td>\n",
       "    </tr>\n",
       "    <tr>\n",
       "      <th>5083.0</th>\n",
       "      <td>Ускользающая сова</td>\n",
       "    </tr>\n",
       "    <tr>\n",
       "      <th>5465.0</th>\n",
       "      <td>Чемпионат России</td>\n",
       "    </tr>\n",
       "    <tr>\n",
       "      <th>5693.0</th>\n",
       "      <td>Знание – Сила VI</td>\n",
       "    </tr>\n",
       "    <tr>\n",
       "      <th>5741.0</th>\n",
       "      <td>All Cats Are Beautiful</td>\n",
       "    </tr>\n",
       "    <tr>\n",
       "      <th>5942.0</th>\n",
       "      <td>Чемпионат Мира. Этап 2. Группа В</td>\n",
       "    </tr>\n",
       "    <tr>\n",
       "      <th>5161.0</th>\n",
       "      <td>Антибинго</td>\n",
       "    </tr>\n",
       "    <tr>\n",
       "      <th>5098.0</th>\n",
       "      <td>Ра-II: синхрон \"Борского корабела\"</td>\n",
       "    </tr>\n",
       "    <tr>\n",
       "      <th>5943.0</th>\n",
       "      <td>Чемпионат Мира. Этап 2 Группа С</td>\n",
       "    </tr>\n",
       "    <tr>\n",
       "      <th>5515.0</th>\n",
       "      <td>Чемпионат Минска. Лига А. Тур четвёртый</td>\n",
       "    </tr>\n",
       "    <tr>\n",
       "      <th>5795.0</th>\n",
       "      <td>Кубок Москвы</td>\n",
       "    </tr>\n",
       "    <tr>\n",
       "      <th>5303.0</th>\n",
       "      <td>Мемориал Дмитрия Коноваленко</td>\n",
       "    </tr>\n",
       "    <tr>\n",
       "      <th>5946.0</th>\n",
       "      <td>Чемпионат Мира. Этап 3. Группа В</td>\n",
       "    </tr>\n",
       "    <tr>\n",
       "      <th>5996.0</th>\n",
       "      <td>Тихий Донец: омут первый</td>\n",
       "    </tr>\n",
       "  </tbody>\n",
       "</table>\n",
       "</div>"
      ],
      "text/plain": [
       "                                           name\n",
       "id                                             \n",
       "6149.0  Чемпионат Санкт-Петербурга. Первая лига\n",
       "5928.0                              Угрюмый Ёрш\n",
       "5159.0             Первенство правого полушария\n",
       "5684.0               Синхрон высшей лиги Москвы\n",
       "5025.0                            Кубок городов\n",
       "6101.0                       Воображаемый музей\n",
       "5587.0                         Записки охотника\n",
       "5083.0                        Ускользающая сова\n",
       "5465.0                         Чемпионат России\n",
       "5693.0                         Знание – Сила VI\n",
       "5741.0                   All Cats Are Beautiful\n",
       "5942.0         Чемпионат Мира. Этап 2. Группа В\n",
       "5161.0                                Антибинго\n",
       "5098.0       Ра-II: синхрон \"Борского корабела\"\n",
       "5943.0          Чемпионат Мира. Этап 2 Группа С\n",
       "5515.0  Чемпионат Минска. Лига А. Тур четвёртый\n",
       "5795.0                             Кубок Москвы\n",
       "5303.0             Мемориал Дмитрия Коноваленко\n",
       "5946.0         Чемпионат Мира. Этап 3. Группа В\n",
       "5996.0                 Тихий Донец: омут первый"
      ]
     },
     "execution_count": 50,
     "metadata": {},
     "output_type": "execute_result"
    }
   ],
   "source": [
    "pd_top_hardest.head(20)"
   ]
  }
 ],
 "metadata": {
  "colab": {
   "name": "Untitled5 (2).ipynb",
   "provenance": []
  },
  "kernelspec": {
   "display_name": "Python 3",
   "language": "python",
   "name": "python3"
  },
  "language_info": {
   "codemirror_mode": {
    "name": "ipython",
    "version": 3
   },
   "file_extension": ".py",
   "mimetype": "text/x-python",
   "name": "python",
   "nbconvert_exporter": "python",
   "pygments_lexer": "ipython3",
   "version": "3.8.8"
  }
 },
 "nbformat": 4,
 "nbformat_minor": 1
}
