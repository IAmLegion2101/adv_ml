{
 "cells": [
  {
   "cell_type": "code",
   "execution_count": 1,
   "metadata": {
    "id": "PmQ0iREXM9-R"
   },
   "outputs": [],
   "source": [
    "!activate adv_ml_env"
   ]
  },
  {
   "cell_type": "code",
   "execution_count": 2,
   "metadata": {},
   "outputs": [],
   "source": [
    "import json, pickle\n",
    "from collections import Counter\n",
    "import warnings\n",
    "\n",
    "import pandas as pd\n",
    "import numpy as np\n",
    "from matplotlib import pyplot as plt\n",
    "from sklearn.preprocessing import OneHotEncoder\n",
    "from sklearn.linear_model import LogisticRegression\n",
    "from sklearn.base import clone\n",
    "from scipy.sparse import vstack, hstack\n",
    "from scipy.stats.stats import spearmanr\n",
    "from scipy.stats.stats import kendalltau\n",
    "from tqdm import tqdm\n",
    "import sklearn"
   ]
  },
  {
   "cell_type": "code",
   "execution_count": 3,
   "metadata": {},
   "outputs": [
    {
     "data": {
      "text/plain": [
       "'1.0.2'"
      ]
     },
     "execution_count": 3,
     "metadata": {},
     "output_type": "execute_result"
    }
   ],
   "source": [
    "sklearn.__version__"
   ]
  },
  {
   "cell_type": "code",
   "execution_count": null,
   "metadata": {
    "colab": {
     "base_uri": "https://localhost:8080/"
    },
    "id": "fGYS8egQNANw",
    "outputId": "7a9d64d5-1805-4067-f6df-b73301b0f93f"
   },
   "outputs": [],
   "source": [
    "!wget https://www.dropbox.com/s/s4qj0fpsn378m2i/chgk.zip "
   ]
  },
  {
   "cell_type": "code",
   "execution_count": null,
   "metadata": {
    "colab": {
     "base_uri": "https://localhost:8080/"
    },
    "id": "GlWYfmMYNCEH",
    "outputId": "9e23bbab-d971-4e3d-db40-8a7d9f8d5d02"
   },
   "outputs": [],
   "source": [
    "!unzip chgk.zip"
   ]
  },
  {
   "cell_type": "markdown",
   "metadata": {
    "id": "Qe5Q4zsLWd91"
   },
   "source": [
    "1. **Прочитайте и проанализируйте данные, выберите турниры, в которых есть данные о составах команд и повопросных результатах (поле mask в results.pkl). Для унификации предлагаю:**\n",
    "\n",
    "  a) взять в тренировочный набор турниры с dateStart из 2019 года; \n",
    "\n",
    "  b) в тестовый — турниры с dateStart из 2020 года."
   ]
  },
  {
   "cell_type": "markdown",
   "metadata": {
    "id": "iFOu0ZK6WtTU"
   },
   "source": [
    "Прочитаем файлы и дропнем все ненужные данные"
   ]
  },
  {
   "cell_type": "code",
   "execution_count": 4,
   "metadata": {
    "id": "zsRkQ4DVNE4B"
   },
   "outputs": [],
   "source": [
    "def read_pickle_file(fname):\n",
    "    file = open(fname, 'rb')\n",
    "    res = pickle.load(file)\n",
    "    file.close()\n",
    "    return res\n",
    "results_data = read_pickle_file('results.pkl')\n",
    "players_data = read_pickle_file('players.pkl')\n",
    "tournaments_data = read_pickle_file('tournaments.pkl')"
   ]
  },
  {
   "cell_type": "code",
   "execution_count": 5,
   "metadata": {
    "id": "mKKNBotWV7yV"
   },
   "outputs": [],
   "source": [
    "df_players = pd.DataFrame(players_data.values()).set_index(\"id\")\n",
    "df_tournaments = pd.DataFrame(tournaments_data.values()).set_index(\"id\")\n",
    "\n",
    "df_tournaments[\"year\"] = df_tournaments[\"dateStart\"].apply(lambda x: int(x[:4]))\n",
    "df_train_tournaments = df_tournaments[df_tournaments[\"year\"] == 2019]\n",
    "df_test_tournaments = df_tournaments[df_tournaments[\"year\"] == 2020]"
   ]
  },
  {
   "cell_type": "markdown",
   "metadata": {
    "id": "BmLZ_lu9W1cn"
   },
   "source": [
    "Сформируем данные для обучения"
   ]
  },
  {
   "cell_type": "code",
   "execution_count": 7,
   "metadata": {
    "id": "b1iIrqgsXm64"
   },
   "outputs": [],
   "source": [
    "train_tourn_res = []\n",
    "\n",
    "player_ids = []\n",
    "question_ids = []\n",
    "for tourn_id in df_train_tournaments.index:\n",
    "    tourn_res = results_data[tourn_id]\n",
    "    total_questions = set()\n",
    "\n",
    "    mask = \"\"\n",
    "    for team in tourn_res:\n",
    "        if team.get('mask') is not None:\n",
    "            total_questions.add(len(team['mask'].replace(\"?\", \"\").replace(\"X\", \"\")))\n",
    "        else:\n",
    "            continue\n",
    "  \n",
    "    if len(total_questions) > 1:\n",
    "        continue\n",
    "\n",
    "    for team_res in tourn_res:        \n",
    "        tmp = {'tourn_id': [],\n",
    "               'mask': [],\n",
    "               'team_id': [],\n",
    "               'player_ids': []}\n",
    "        if team_res.get(\"mask\") is None or team_res.get(\"teamMembers\") is None or len(team_res[\"teamMembers\"]) < 1:\n",
    "                continue\n",
    "        mask = team_res[\"mask\"].replace(\"?\", \"\").replace(\"X\", \"\")\n",
    "        tmp['tourn_id'] =  tourn_id\n",
    "        tmp['mask'] = list(map(int, mask))\n",
    "        tmp['team_id'] = team_res['team']['id']\n",
    "        tmp['player_ids'] = [player[\"player\"][\"id\"] for player in team_res[\"teamMembers\"]]\n",
    "        player_ids.extend([player[\"player\"][\"id\"] for player in team_res[\"teamMembers\"]])\n",
    "        train_tourn_res.append(tmp)\n",
    "\n",
    "    if mask:\n",
    "        for idx, _ in enumerate(mask):\n",
    "            question_ids.append(str(tourn_id) + \"-\" + str(idx))\n",
    "player_ids = list(set(player_ids))"
   ]
  },
  {
   "cell_type": "markdown",
   "metadata": {
    "id": "6Y_ZwzyghcXp"
   },
   "source": [
    "**2. Постройте baseline-модель на основе линейной или логистической регрессии, которая будет обучать рейтинг-лист игроков. Замечания и подсказки:**\n",
    "\n",
    "a) повопросные результаты — это фактически результаты броска монетки, и их предсказание скорее всего имеет отношение к бинарной классификации;\n",
    "\n",
    "b) в разных турнирах вопросы совсем разного уровня сложности, поэтому модель должна это учитывать; скорее всего, модель должна будет явно обучать не только силу каждого игрока, но и сложность каждого вопроса;\n",
    "\n",
    "c) для baseline-модели можно забыть о командах и считать, что повопросные результаты команды просто относятся к каждому из её игроков."
   ]
  },
  {
   "cell_type": "markdown",
   "metadata": {
    "id": "yb_s2HO-zM7d"
   },
   "source": [
    "обучим модель на следующих данных: возьмем 2 ohe сложенных вектора, один оценивает навык игрока, а второй - сложность вопроса. Веса модели будут отвечать за навык игрока и сложность модели."
   ]
  },
  {
   "cell_type": "code",
   "execution_count": 8,
   "metadata": {
    "id": "_uMN1N4lYWF2"
   },
   "outputs": [],
   "source": [
    "ohe_players = OneHotEncoder()\n",
    "ohe_questions = OneHotEncoder()\n",
    "player_ids = np.array(player_ids).reshape(-1, 1)\n",
    "ohe_player_ids = ohe_players.fit_transform(player_ids)\n",
    "\n",
    "question_ids = np.array(question_ids).reshape(-1, 1)\n",
    "ohe_question_ids = ohe_questions.fit_transform(question_ids)"
   ]
  },
  {
   "cell_type": "code",
   "execution_count": 9,
   "metadata": {
    "colab": {
     "base_uri": "https://localhost:8080/"
    },
    "id": "ciRHQMTV0XZu",
    "outputId": "39492bbd-640a-406e-d5ea-6a0e6d3be133"
   },
   "outputs": [
    {
     "name": "stderr",
     "output_type": "stream",
     "text": [
      "100%|████████████████████████████████████████████████████████████████████████████| 76490/76490 [50:02<00:00, 25.48it/s]\n"
     ]
    }
   ],
   "source": [
    "dataset_logreg = []\n",
    "targets = []\n",
    "for tourn in tqdm(train_tourn_res):\n",
    "    \n",
    "    \n",
    "    players_vec = np.array([np.zeros(len(tourn['mask'])) + int(pl_id) for pl_id in tourn['player_ids']], dtype='int').reshape(-1, 1)\n",
    "    ohe_players_matr = ohe_players.transform(players_vec)\n",
    "  \n",
    "    q_mask_vec = [f'{str(tourn[\"tourn_id\"])}-{str(idx)}' for idx in range(len(tourn['mask']))]\n",
    "    q_mask = np.tile(q_mask_vec, len(tourn['player_ids'])).reshape(-1, 1)\n",
    "    ohe_questions_matr = ohe_questions.transform(q_mask)\n",
    "\n",
    "    targets.append(np.tile(tourn['mask'], len(tourn['player_ids'])).reshape(-1, 1))\n",
    "    dataset_logreg.append(hstack([ohe_players_matr, ohe_questions_matr]))"
   ]
  },
  {
   "cell_type": "code",
   "execution_count": 10,
   "metadata": {
    "id": "v4EpHqM_QTaR"
   },
   "outputs": [],
   "source": [
    "dataset = vstack(dataset_logreg)\n",
    "target = np.vstack(targets)"
   ]
  },
  {
   "cell_type": "code",
   "execution_count": 11,
   "metadata": {
    "colab": {
     "base_uri": "https://localhost:8080/"
    },
    "id": "o6D2dbcCQabv",
    "outputId": "6cad63c4-b6b2-4aab-c176-dfa2d62ece04"
   },
   "outputs": [
    {
     "name": "stderr",
     "output_type": "stream",
     "text": [
      "D:\\Program Files\\Anaconda\\lib\\site-packages\\sklearn\\utils\\validation.py:993: DataConversionWarning: A column-vector y was passed when a 1d array was expected. Please change the shape of y to (n_samples, ), for example using ravel().\n",
      "  y = column_or_1d(y, warn=True)\n"
     ]
    },
    {
     "data": {
      "text/plain": [
       "LogisticRegression(solver='saga')"
      ]
     },
     "execution_count": 11,
     "metadata": {},
     "output_type": "execute_result"
    }
   ],
   "source": [
    "log_reg = LogisticRegression(solver='saga')\n",
    "log_reg.fit(dataset, target)"
   ]
  },
  {
   "cell_type": "code",
   "execution_count": 12,
   "metadata": {
    "id": "cqd6BbTDafCJ"
   },
   "outputs": [],
   "source": [
    "all_pl = []\n",
    "for team_in_tourn in train_tourn_res:\n",
    "    for player_id in team_in_tourn[\"player_ids\"]:\n",
    "        if player_id not in all_pl:\n",
    "            all_pl.append(player_id)\n",
    "\n",
    "rating = pd.DataFrame({'player_ids': sorted(all_pl),\n",
    "                       'strength': log_reg.coef_[0][:len(all_pl)]})"
   ]
  },
  {
   "cell_type": "code",
   "execution_count": 13,
   "metadata": {
    "id": "zvvuoqsnaiTV"
   },
   "outputs": [],
   "source": [
    "player_count_games_vocab = Counter()\n",
    "\n",
    "for team in train_tourn_res:\n",
    "    for player_id in team[\"player_ids\"]:\n",
    "        player_count_games_vocab[player_id] += len(team[\"mask\"])\n",
    "\n",
    "df_player_count_games_vocab = pd.DataFrame.from_dict(player_count_games_vocab, orient='index')\n",
    "df_player_count_games_vocab[\"player_ids\"] = df_player_count_games_vocab.index"
   ]
  },
  {
   "cell_type": "code",
   "execution_count": 14,
   "metadata": {
    "id": "jAc8-IpZajKS"
   },
   "outputs": [],
   "source": [
    "df_players_with_index = df_players.copy()\n",
    "df_players_with_index[\"player_ids\"] = df_players_with_index.index\n",
    "\n",
    "rating = df_players_with_index.merge(rating, on=\"player_ids\")\n",
    "rating = rating.merge(df_player_count_games_vocab, on=\"player_ids\")"
   ]
  },
  {
   "cell_type": "code",
   "execution_count": 15,
   "metadata": {
    "colab": {
     "base_uri": "https://localhost:8080/",
     "height": 1000
    },
    "id": "okL3aaqtaujF",
    "outputId": "fdb66a6d-c37b-4d81-aec9-dfcd509ef1ec"
   },
   "outputs": [
    {
     "data": {
      "text/html": [
       "<div>\n",
       "<style scoped>\n",
       "    .dataframe tbody tr th:only-of-type {\n",
       "        vertical-align: middle;\n",
       "    }\n",
       "\n",
       "    .dataframe tbody tr th {\n",
       "        vertical-align: top;\n",
       "    }\n",
       "\n",
       "    .dataframe thead th {\n",
       "        text-align: right;\n",
       "    }\n",
       "</style>\n",
       "<table border=\"1\" class=\"dataframe\">\n",
       "  <thead>\n",
       "    <tr style=\"text-align: right;\">\n",
       "      <th></th>\n",
       "      <th>name</th>\n",
       "      <th>patronymic</th>\n",
       "      <th>surname</th>\n",
       "      <th>player_ids</th>\n",
       "      <th>strength</th>\n",
       "      <th>0</th>\n",
       "    </tr>\n",
       "  </thead>\n",
       "  <tbody>\n",
       "    <tr>\n",
       "      <th>3832</th>\n",
       "      <td>Максим</td>\n",
       "      <td>Михайлович</td>\n",
       "      <td>Руссо</td>\n",
       "      <td>27403</td>\n",
       "      <td>4.165001</td>\n",
       "      <td>2092</td>\n",
       "    </tr>\n",
       "    <tr>\n",
       "      <th>601</th>\n",
       "      <td>Александра</td>\n",
       "      <td>Владимировна</td>\n",
       "      <td>Брутер</td>\n",
       "      <td>4270</td>\n",
       "      <td>4.033639</td>\n",
       "      <td>2606</td>\n",
       "    </tr>\n",
       "    <tr>\n",
       "      <th>4021</th>\n",
       "      <td>Иван</td>\n",
       "      <td>Николаевич</td>\n",
       "      <td>Семушин</td>\n",
       "      <td>28751</td>\n",
       "      <td>3.984048</td>\n",
       "      <td>3643</td>\n",
       "    </tr>\n",
       "    <tr>\n",
       "      <th>3904</th>\n",
       "      <td>Михаил</td>\n",
       "      <td>Владимирович</td>\n",
       "      <td>Савченков</td>\n",
       "      <td>27822</td>\n",
       "      <td>3.895245</td>\n",
       "      <td>3048</td>\n",
       "    </tr>\n",
       "    <tr>\n",
       "      <th>4207</th>\n",
       "      <td>Артём</td>\n",
       "      <td>Сергеевич</td>\n",
       "      <td>Сорожкин</td>\n",
       "      <td>30152</td>\n",
       "      <td>3.815797</td>\n",
       "      <td>4721</td>\n",
       "    </tr>\n",
       "    <tr>\n",
       "      <th>4227</th>\n",
       "      <td>Сергей</td>\n",
       "      <td>Леонидович</td>\n",
       "      <td>Спешков</td>\n",
       "      <td>30270</td>\n",
       "      <td>3.815692</td>\n",
       "      <td>3570</td>\n",
       "    </tr>\n",
       "    <tr>\n",
       "      <th>2908</th>\n",
       "      <td>Станислав</td>\n",
       "      <td>Григорьевич</td>\n",
       "      <td>Мереминский</td>\n",
       "      <td>20691</td>\n",
       "      <td>3.691011</td>\n",
       "      <td>1548</td>\n",
       "    </tr>\n",
       "    <tr>\n",
       "      <th>2553</th>\n",
       "      <td>Михаил</td>\n",
       "      <td>Ильич</td>\n",
       "      <td>Левандовский</td>\n",
       "      <td>18036</td>\n",
       "      <td>3.639108</td>\n",
       "      <td>1365</td>\n",
       "    </tr>\n",
       "    <tr>\n",
       "      <th>3202</th>\n",
       "      <td>Сергей</td>\n",
       "      <td>Игоревич</td>\n",
       "      <td>Николенко</td>\n",
       "      <td>22799</td>\n",
       "      <td>3.564378</td>\n",
       "      <td>2093</td>\n",
       "    </tr>\n",
       "    <tr>\n",
       "      <th>3652</th>\n",
       "      <td>Ирина</td>\n",
       "      <td>Сергеевна</td>\n",
       "      <td>Прокофьева</td>\n",
       "      <td>26089</td>\n",
       "      <td>3.561377</td>\n",
       "      <td>939</td>\n",
       "    </tr>\n",
       "    <tr>\n",
       "      <th>3218</th>\n",
       "      <td>Илья</td>\n",
       "      <td>Сергеевич</td>\n",
       "      <td>Новиков</td>\n",
       "      <td>22935</td>\n",
       "      <td>3.553672</td>\n",
       "      <td>1589</td>\n",
       "    </tr>\n",
       "    <tr>\n",
       "      <th>2594</th>\n",
       "      <td>Александр</td>\n",
       "      <td>Витальевич</td>\n",
       "      <td>Либер</td>\n",
       "      <td>18332</td>\n",
       "      <td>3.521484</td>\n",
       "      <td>3625</td>\n",
       "    </tr>\n",
       "    <tr>\n",
       "      <th>9258</th>\n",
       "      <td>Антон</td>\n",
       "      <td>Владимирович</td>\n",
       "      <td>Саксонов</td>\n",
       "      <td>87637</td>\n",
       "      <td>3.518017</td>\n",
       "      <td>1122</td>\n",
       "    </tr>\n",
       "    <tr>\n",
       "      <th>4758</th>\n",
       "      <td>Михаил</td>\n",
       "      <td>Сергеевич</td>\n",
       "      <td>Царёв</td>\n",
       "      <td>34328</td>\n",
       "      <td>3.516686</td>\n",
       "      <td>454</td>\n",
       "    </tr>\n",
       "    <tr>\n",
       "      <th>1903</th>\n",
       "      <td>Дмитрий</td>\n",
       "      <td>Александрович</td>\n",
       "      <td>Карякин</td>\n",
       "      <td>13689</td>\n",
       "      <td>3.512366</td>\n",
       "      <td>1221</td>\n",
       "    </tr>\n",
       "    <tr>\n",
       "      <th>3052</th>\n",
       "      <td>Александр</td>\n",
       "      <td>Владимирович</td>\n",
       "      <td>Мосягин</td>\n",
       "      <td>21698</td>\n",
       "      <td>3.508413</td>\n",
       "      <td>1067</td>\n",
       "    </tr>\n",
       "    <tr>\n",
       "      <th>8107</th>\n",
       "      <td>Игорь</td>\n",
       "      <td>Викторович</td>\n",
       "      <td>Мокин</td>\n",
       "      <td>74001</td>\n",
       "      <td>3.499152</td>\n",
       "      <td>1129</td>\n",
       "    </tr>\n",
       "    <tr>\n",
       "      <th>2803</th>\n",
       "      <td>Александр</td>\n",
       "      <td>Валерьевич</td>\n",
       "      <td>Марков</td>\n",
       "      <td>19915</td>\n",
       "      <td>3.494597</td>\n",
       "      <td>2856</td>\n",
       "    </tr>\n",
       "    <tr>\n",
       "      <th>981</th>\n",
       "      <td>Алексей</td>\n",
       "      <td>Владимирович</td>\n",
       "      <td>Гилёв</td>\n",
       "      <td>7008</td>\n",
       "      <td>3.494434</td>\n",
       "      <td>4187</td>\n",
       "    </tr>\n",
       "    <tr>\n",
       "      <th>3019</th>\n",
       "      <td>Борис</td>\n",
       "      <td>Яковлевич</td>\n",
       "      <td>Моносов</td>\n",
       "      <td>21487</td>\n",
       "      <td>3.490179</td>\n",
       "      <td>1056</td>\n",
       "    </tr>\n",
       "    <tr>\n",
       "      <th>2573</th>\n",
       "      <td>Мария</td>\n",
       "      <td>Владимировна</td>\n",
       "      <td>Кленницкая</td>\n",
       "      <td>18194</td>\n",
       "      <td>3.483716</td>\n",
       "      <td>1125</td>\n",
       "    </tr>\n",
       "    <tr>\n",
       "      <th>226</th>\n",
       "      <td>Юлия</td>\n",
       "      <td>Сергеевна</td>\n",
       "      <td>Архангельская</td>\n",
       "      <td>1585</td>\n",
       "      <td>3.477827</td>\n",
       "      <td>1614</td>\n",
       "    </tr>\n",
       "    <tr>\n",
       "      <th>2378</th>\n",
       "      <td>Наталья</td>\n",
       "      <td>Алексеевна</td>\n",
       "      <td>Кудряшова</td>\n",
       "      <td>16837</td>\n",
       "      <td>3.476427</td>\n",
       "      <td>2508</td>\n",
       "    </tr>\n",
       "    <tr>\n",
       "      <th>2846</th>\n",
       "      <td>Михаил</td>\n",
       "      <td>Леонидович</td>\n",
       "      <td>Матвеев</td>\n",
       "      <td>20207</td>\n",
       "      <td>3.473108</td>\n",
       "      <td>989</td>\n",
       "    </tr>\n",
       "    <tr>\n",
       "      <th>2304</th>\n",
       "      <td>Николай</td>\n",
       "      <td>Валерьевич</td>\n",
       "      <td>Крапиль</td>\n",
       "      <td>16332</td>\n",
       "      <td>3.466458</td>\n",
       "      <td>1652</td>\n",
       "    </tr>\n",
       "    <tr>\n",
       "      <th>6671</th>\n",
       "      <td>Наталья</td>\n",
       "      <td>Евгеньевна</td>\n",
       "      <td>Горелова</td>\n",
       "      <td>56647</td>\n",
       "      <td>3.464548</td>\n",
       "      <td>2021</td>\n",
       "    </tr>\n",
       "    <tr>\n",
       "      <th>8145</th>\n",
       "      <td>Михаил</td>\n",
       "      <td>Андреевич</td>\n",
       "      <td>Новосёлов</td>\n",
       "      <td>74382</td>\n",
       "      <td>3.454267</td>\n",
       "      <td>2912</td>\n",
       "    </tr>\n",
       "    <tr>\n",
       "      <th>3423</th>\n",
       "      <td>Евгений</td>\n",
       "      <td>Александрович</td>\n",
       "      <td>Пашковский</td>\n",
       "      <td>24384</td>\n",
       "      <td>3.453820</td>\n",
       "      <td>1436</td>\n",
       "    </tr>\n",
       "    <tr>\n",
       "      <th>4839</th>\n",
       "      <td>Антон</td>\n",
       "      <td>Анатольевич</td>\n",
       "      <td>Чернин</td>\n",
       "      <td>34846</td>\n",
       "      <td>3.446633</td>\n",
       "      <td>1496</td>\n",
       "    </tr>\n",
       "    <tr>\n",
       "      <th>2069</th>\n",
       "      <td>Николай</td>\n",
       "      <td>Александрович</td>\n",
       "      <td>Коврижных</td>\n",
       "      <td>14786</td>\n",
       "      <td>3.443730</td>\n",
       "      <td>2939</td>\n",
       "    </tr>\n",
       "    <tr>\n",
       "      <th>870</th>\n",
       "      <td>Юрий</td>\n",
       "      <td>Яковлевич</td>\n",
       "      <td>Выменец</td>\n",
       "      <td>6212</td>\n",
       "      <td>3.435514</td>\n",
       "      <td>3144</td>\n",
       "    </tr>\n",
       "    <tr>\n",
       "      <th>3343</th>\n",
       "      <td>Андрей</td>\n",
       "      <td>Вячеславович</td>\n",
       "      <td>Островский</td>\n",
       "      <td>23737</td>\n",
       "      <td>3.433699</td>\n",
       "      <td>2565</td>\n",
       "    </tr>\n",
       "    <tr>\n",
       "      <th>591</th>\n",
       "      <td>Сусанна</td>\n",
       "      <td>Марковна</td>\n",
       "      <td>Бровер</td>\n",
       "      <td>4226</td>\n",
       "      <td>3.422157</td>\n",
       "      <td>600</td>\n",
       "    </tr>\n",
       "    <tr>\n",
       "      <th>2814</th>\n",
       "      <td>Александр</td>\n",
       "      <td>Ефимович</td>\n",
       "      <td>Мартынов</td>\n",
       "      <td>20001</td>\n",
       "      <td>3.408668</td>\n",
       "      <td>1512</td>\n",
       "    </tr>\n",
       "    <tr>\n",
       "      <th>1270</th>\n",
       "      <td>Евгений</td>\n",
       "      <td>Васильевич</td>\n",
       "      <td>Дёмин</td>\n",
       "      <td>9061</td>\n",
       "      <td>3.407112</td>\n",
       "      <td>490</td>\n",
       "    </tr>\n",
       "    <tr>\n",
       "      <th>5144</th>\n",
       "      <td>Мария</td>\n",
       "      <td>Алексеевна</td>\n",
       "      <td>Юнгер</td>\n",
       "      <td>37047</td>\n",
       "      <td>3.402736</td>\n",
       "      <td>634</td>\n",
       "    </tr>\n",
       "    <tr>\n",
       "      <th>5262</th>\n",
       "      <td>Дмитрий</td>\n",
       "      <td>Николаевич</td>\n",
       "      <td>Петров</td>\n",
       "      <td>37718</td>\n",
       "      <td>3.399662</td>\n",
       "      <td>2459</td>\n",
       "    </tr>\n",
       "    <tr>\n",
       "      <th>68</th>\n",
       "      <td>Иделия</td>\n",
       "      <td>Мукадясовна</td>\n",
       "      <td>Айзятулова</td>\n",
       "      <td>505</td>\n",
       "      <td>3.398253</td>\n",
       "      <td>2091</td>\n",
       "    </tr>\n",
       "    <tr>\n",
       "      <th>2216</th>\n",
       "      <td>Александр</td>\n",
       "      <td>Геннадьевич</td>\n",
       "      <td>Коробейников</td>\n",
       "      <td>15727</td>\n",
       "      <td>3.397766</td>\n",
       "      <td>1401</td>\n",
       "    </tr>\n",
       "    <tr>\n",
       "      <th>4591</th>\n",
       "      <td>Татьяна</td>\n",
       "      <td>Евгеньевна</td>\n",
       "      <td>Фёдорова</td>\n",
       "      <td>33032</td>\n",
       "      <td>3.395486</td>\n",
       "      <td>3161</td>\n",
       "    </tr>\n",
       "    <tr>\n",
       "      <th>4222</th>\n",
       "      <td>Евгений</td>\n",
       "      <td>Павлович</td>\n",
       "      <td>Спектор</td>\n",
       "      <td>30260</td>\n",
       "      <td>3.393805</td>\n",
       "      <td>266</td>\n",
       "    </tr>\n",
       "    <tr>\n",
       "      <th>4578</th>\n",
       "      <td>Наиль</td>\n",
       "      <td>Евгеньевич</td>\n",
       "      <td>Фарукшин</td>\n",
       "      <td>32901</td>\n",
       "      <td>3.378229</td>\n",
       "      <td>3066</td>\n",
       "    </tr>\n",
       "    <tr>\n",
       "      <th>5519</th>\n",
       "      <td>Дмитрий</td>\n",
       "      <td>Сергеевич</td>\n",
       "      <td>Кудинов</td>\n",
       "      <td>40411</td>\n",
       "      <td>3.374337</td>\n",
       "      <td>45</td>\n",
       "    </tr>\n",
       "    <tr>\n",
       "      <th>4012</th>\n",
       "      <td>Инна</td>\n",
       "      <td>Валентиновна</td>\n",
       "      <td>Семёнова</td>\n",
       "      <td>28689</td>\n",
       "      <td>3.360754</td>\n",
       "      <td>2418</td>\n",
       "    </tr>\n",
       "    <tr>\n",
       "      <th>3773</th>\n",
       "      <td>Александр</td>\n",
       "      <td>Александрович</td>\n",
       "      <td>Фингеров</td>\n",
       "      <td>26911</td>\n",
       "      <td>3.358178</td>\n",
       "      <td>1450</td>\n",
       "    </tr>\n",
       "    <tr>\n",
       "      <th>2189</th>\n",
       "      <td>Кристина</td>\n",
       "      <td>Олеговна</td>\n",
       "      <td>Кораблина</td>\n",
       "      <td>15595</td>\n",
       "      <td>3.352209</td>\n",
       "      <td>2761</td>\n",
       "    </tr>\n",
       "    <tr>\n",
       "      <th>5325</th>\n",
       "      <td>Артём</td>\n",
       "      <td>Александрович</td>\n",
       "      <td>Митрофанов</td>\n",
       "      <td>38196</td>\n",
       "      <td>3.337324</td>\n",
       "      <td>757</td>\n",
       "    </tr>\n",
       "    <tr>\n",
       "      <th>3253</th>\n",
       "      <td>Елизавета</td>\n",
       "      <td>Сергеевна</td>\n",
       "      <td>Овдеенко</td>\n",
       "      <td>23178</td>\n",
       "      <td>3.331015</td>\n",
       "      <td>2164</td>\n",
       "    </tr>\n",
       "    <tr>\n",
       "      <th>3274</th>\n",
       "      <td>Дмитрий</td>\n",
       "      <td>Сергеевич</td>\n",
       "      <td>Ожигов</td>\n",
       "      <td>23321</td>\n",
       "      <td>3.329331</td>\n",
       "      <td>3698</td>\n",
       "    </tr>\n",
       "    <tr>\n",
       "      <th>2973</th>\n",
       "      <td>Кирилл</td>\n",
       "      <td>Игоревич</td>\n",
       "      <td>Михайлов</td>\n",
       "      <td>21137</td>\n",
       "      <td>3.319013</td>\n",
       "      <td>690</td>\n",
       "    </tr>\n",
       "  </tbody>\n",
       "</table>\n",
       "</div>"
      ],
      "text/plain": [
       "            name     patronymic        surname  player_ids  strength     0\n",
       "3832      Максим     Михайлович          Руссо       27403  4.165001  2092\n",
       "601   Александра   Владимировна         Брутер        4270  4.033639  2606\n",
       "4021        Иван     Николаевич        Семушин       28751  3.984048  3643\n",
       "3904      Михаил   Владимирович      Савченков       27822  3.895245  3048\n",
       "4207       Артём      Сергеевич       Сорожкин       30152  3.815797  4721\n",
       "4227      Сергей     Леонидович        Спешков       30270  3.815692  3570\n",
       "2908   Станислав    Григорьевич    Мереминский       20691  3.691011  1548\n",
       "2553      Михаил          Ильич   Левандовский       18036  3.639108  1365\n",
       "3202      Сергей       Игоревич      Николенко       22799  3.564378  2093\n",
       "3652       Ирина      Сергеевна     Прокофьева       26089  3.561377   939\n",
       "3218        Илья      Сергеевич        Новиков       22935  3.553672  1589\n",
       "2594   Александр     Витальевич          Либер       18332  3.521484  3625\n",
       "9258       Антон   Владимирович       Саксонов       87637  3.518017  1122\n",
       "4758      Михаил      Сергеевич          Царёв       34328  3.516686   454\n",
       "1903     Дмитрий  Александрович        Карякин       13689  3.512366  1221\n",
       "3052   Александр   Владимирович        Мосягин       21698  3.508413  1067\n",
       "8107       Игорь     Викторович          Мокин       74001  3.499152  1129\n",
       "2803   Александр     Валерьевич         Марков       19915  3.494597  2856\n",
       "981      Алексей   Владимирович          Гилёв        7008  3.494434  4187\n",
       "3019       Борис      Яковлевич        Моносов       21487  3.490179  1056\n",
       "2573       Мария   Владимировна     Кленницкая       18194  3.483716  1125\n",
       "226         Юлия      Сергеевна  Архангельская        1585  3.477827  1614\n",
       "2378     Наталья     Алексеевна      Кудряшова       16837  3.476427  2508\n",
       "2846      Михаил     Леонидович        Матвеев       20207  3.473108   989\n",
       "2304     Николай     Валерьевич        Крапиль       16332  3.466458  1652\n",
       "6671     Наталья     Евгеньевна       Горелова       56647  3.464548  2021\n",
       "8145      Михаил      Андреевич      Новосёлов       74382  3.454267  2912\n",
       "3423     Евгений  Александрович     Пашковский       24384  3.453820  1436\n",
       "4839       Антон    Анатольевич         Чернин       34846  3.446633  1496\n",
       "2069     Николай  Александрович      Коврижных       14786  3.443730  2939\n",
       "870         Юрий      Яковлевич        Выменец        6212  3.435514  3144\n",
       "3343      Андрей   Вячеславович     Островский       23737  3.433699  2565\n",
       "591      Сусанна       Марковна         Бровер        4226  3.422157   600\n",
       "2814   Александр       Ефимович       Мартынов       20001  3.408668  1512\n",
       "1270     Евгений     Васильевич          Дёмин        9061  3.407112   490\n",
       "5144       Мария     Алексеевна          Юнгер       37047  3.402736   634\n",
       "5262     Дмитрий     Николаевич         Петров       37718  3.399662  2459\n",
       "68        Иделия    Мукадясовна     Айзятулова         505  3.398253  2091\n",
       "2216   Александр    Геннадьевич   Коробейников       15727  3.397766  1401\n",
       "4591     Татьяна     Евгеньевна       Фёдорова       33032  3.395486  3161\n",
       "4222     Евгений       Павлович        Спектор       30260  3.393805   266\n",
       "4578       Наиль     Евгеньевич       Фарукшин       32901  3.378229  3066\n",
       "5519     Дмитрий      Сергеевич        Кудинов       40411  3.374337    45\n",
       "4012        Инна   Валентиновна       Семёнова       28689  3.360754  2418\n",
       "3773   Александр  Александрович       Фингеров       26911  3.358178  1450\n",
       "2189    Кристина       Олеговна      Кораблина       15595  3.352209  2761\n",
       "5325       Артём  Александрович     Митрофанов       38196  3.337324   757\n",
       "3253   Елизавета      Сергеевна       Овдеенко       23178  3.331015  2164\n",
       "3274     Дмитрий      Сергеевич         Ожигов       23321  3.329331  3698\n",
       "2973      Кирилл       Игоревич       Михайлов       21137  3.319013   690"
      ]
     },
     "execution_count": 15,
     "metadata": {},
     "output_type": "execute_result"
    }
   ],
   "source": [
    "rating.sort_values(by='strength', ascending=False).head(50)"
   ]
  },
  {
   "cell_type": "markdown",
   "metadata": {
    "id": "EdG6XIB27W1I"
   },
   "source": [
    "**Качество рейтинг-системы оценивается качеством предсказаний результатов турниров. Но сами повопросные результаты наши модели предсказывать вряд ли смогут, ведь неизвестно, насколько сложными окажутся вопросы в будущих турнирах; да и не нужны эти предсказания сами по себе. Поэтому:**\n",
    "\n",
    "1) предложите способ предсказать результаты нового турнира с известными составами, но неизвестными вопросами, в виде ранжирования команд;\n",
    "\n",
    "2) в качестве метрики качества на тестовом наборе давайте считать ранговые корреляции Спирмена и Кендалла (их можно взять в пакете scipy) между реальным ранжированием в результатах турнира и предсказанным моделью, усреднённые по тестовому множеству турниров."
   ]
  },
  {
   "cell_type": "code",
   "execution_count": 16,
   "metadata": {
    "colab": {
     "base_uri": "https://localhost:8080/",
     "height": 355
    },
    "id": "DeKEbTYAAbG4",
    "outputId": "6a53e4d2-c46e-43dd-84a6-4e61559c3a26"
   },
   "outputs": [
    {
     "data": {
      "text/plain": [
       "Text(0.5, 1.0, 'Распределение сложености вопросов')"
      ]
     },
     "execution_count": 16,
     "metadata": {},
     "output_type": "execute_result"
    },
    {
     "data": {
      "image/png": "[encoded data removed]",
      "text/plain": [
       "<Figure size 720x360 with 2 Axes>"
      ]
     },
     "metadata": {
      "needs_background": "light"
     },
     "output_type": "display_data"
    }
   ],
   "source": [
    "fig, (ax1, ax2) = plt.subplots(1, 2, figsize=(10,5))\n",
    "\n",
    "ax1.hist(rating[[\"strength\"]].values, bins=20)\n",
    "ax1.set_title('Распределение навыка игроков')\n",
    "ax2.hist(log_reg.coef_[0][len(all_pl):], bins=20)\n",
    "ax2.set_title('Распределение сложености вопросов')"
   ]
  },
  {
   "cell_type": "code",
   "execution_count": 17,
   "metadata": {
    "colab": {
     "base_uri": "https://localhost:8080/"
    },
    "id": "rSSx1NtIDVSo",
    "outputId": "8fa61d59-2cf1-4dc1-a4f8-6dda761d952a"
   },
   "outputs": [
    {
     "data": {
      "text/plain": [
       "-9.38923084130807e-05"
      ]
     },
     "execution_count": 17,
     "metadata": {},
     "output_type": "execute_result"
    }
   ],
   "source": [
    "log_reg.coef_[0][len(all_pl):].mean()"
   ]
  },
  {
   "cell_type": "code",
   "execution_count": 18,
   "metadata": {
    "id": "4coahy7MEsJm"
   },
   "outputs": [],
   "source": [
    "middle_question = np.abs(log_reg.coef_[0][len(all_pl):]).min()\n",
    "question_index = np.where(log_reg.coef_[0][len(all_pl):] == middle_question)\n",
    "middle_question = ohe_questions.categories_[0][question_index[0][0]]"
   ]
  },
  {
   "cell_type": "code",
   "execution_count": 19,
   "metadata": {
    "id": "0q97Gpf2Rw7E"
   },
   "outputs": [],
   "source": [
    "test_tourn_res = []\n",
    "\n",
    "for tourn_id in df_test_tournaments.index:\n",
    "    tourn_res = results_data[tourn_id]\n",
    "    total_questions = set()\n",
    "    data_tournament_results = []\n",
    "    mask = \"\"\n",
    "    for team in tourn_res:\n",
    "        if team.get('mask') is not None:\n",
    "            total_questions.add(len(team['mask'].replace(\"?\", \"\").replace(\"X\", \"\")))\n",
    "        else:\n",
    "            continue\n",
    "  \n",
    "    if len(total_questions) > 1:\n",
    "        continue\n",
    "    for team_res in tourn_res:  \n",
    "        tmp = {'tourn_id': [],\n",
    "               'mask': [],\n",
    "               'team_id': [],\n",
    "               'pos': [],\n",
    "               'player_ids': []}\n",
    "        if team_res.get(\"mask\") is None or team_res.get(\"teamMembers\") is None or len(team_res[\"teamMembers\"]) < 1:\n",
    "                continue\n",
    "        mask = team_res[\"mask\"].replace(\"?\", \"\").replace(\"X\", \"\")\n",
    "        tmp['tourn_id'] =  tourn_id\n",
    "        tmp['mask'] = list(map(int, mask))\n",
    "        tmp['pos'] = team_res['position']\n",
    "        tmp['team_id'] = team_res['team']['id']\n",
    "\n",
    "        tmp['player_ids'] = [player[\"player\"][\"id\"] for player in team_res[\"teamMembers\"]]\n",
    "        data_tournament_results.append(tmp)\n",
    "    if mask:\n",
    "        test_tourn_res.append(data_tournament_results)"
   ]
  },
  {
   "cell_type": "markdown",
   "metadata": {
    "id": "DHseEEkeFM6b"
   },
   "source": [
    "Попробуем по-другому считать скилл команды. Будем считать вероятность правильного ответа команды на \"средний\" вопрос по формуле:  \n",
    "\n",
    "$S = 1 - Π_{i∈team}(1 - σ[s_i, mq]), \\sigma$  - вероятность игрока из команды ответить на вопрос"
   ]
  },
  {
   "cell_type": "code",
   "execution_count": 24,
   "metadata": {
    "colab": {
     "base_uri": "https://localhost:8080/"
    },
    "id": "o86qQqnDFDdk",
    "outputId": "088e860c-9884-45d6-de62-cff141c946a7"
   },
   "outputs": [
    {
     "name": "stderr",
     "output_type": "stream",
     "text": [
      "100%|████████████████████████████████████████████████████████████████████████████████| 165/165 [12:46<00:00,  4.64s/it]"
     ]
    },
    {
     "name": "stdout",
     "output_type": "stream",
     "text": [
      "Spearman correlation: 0.8062817265487934\n",
      "Kendall correlation: 0.6484085596557945\n"
     ]
    },
    {
     "name": "stderr",
     "output_type": "stream",
     "text": [
      "\n"
     ]
    }
   ],
   "source": [
    "def calc_score(model):\n",
    "    test_results = {}\n",
    "    for tourn in tqdm(test_tourn_res):\n",
    "        tourn_res = {}\n",
    "        for team in tourn:            \n",
    "            g_truth = team['pos']\n",
    "            team_members = []\n",
    "            for player_id in team[\"player_ids\"]:\n",
    "                try:\n",
    "                    ohe_players.transform([[player_id]])\n",
    "                    team_members.append(player_id)\n",
    "                except ValueError:\n",
    "                    continue   \n",
    "            if len(team_members) == 0:\n",
    "                    continue\n",
    "            players_matrix = ohe_players.transform(np.array(team_members).reshape(-1, 1))\n",
    "            question_matrix = ohe_questions.transform(np.full((len(team_members), 1), middle_question))\n",
    "            tmp_dataset = hstack([players_matrix, question_matrix])\n",
    "            preds = model.predict_proba(tmp_dataset)[:, 1]\n",
    "            team_skill = 1 - np.product(1 - preds)\n",
    "            tourn_res[team[\"team_id\"]] = (team_skill, g_truth)\n",
    "        test_results[tourn[0][\"tourn_id\"]] = tourn_res\n",
    "\n",
    "    spearman_corr = []\n",
    "    kendall_corr = []\n",
    "\n",
    "    for tourn in test_results.values():\n",
    "        predicts = []\n",
    "        g_truth = []\n",
    "        for stat in tourn.values():        \n",
    "            predicts.append(stat[0])\n",
    "            g_truth.append(stat[1])\n",
    "        tmp = spearmanr(predicts, g_truth)[0]\n",
    "        spearman_corr.append(tmp)\n",
    "        tmp2 = kendalltau(predicts, g_truth)[0]\n",
    "        kendall_corr.append(tmp2)\n",
    "\n",
    "    spearman_corr_res = np.abs(np.mean([t for t in spearman_corr if np.isfinite(t)]))\n",
    "    kendall_corr_res = np.abs(np.mean([t for t in kendall_corr if np.isfinite(t)]))\n",
    "    return spearman_corr_res, kendall_corr_res\n",
    "\n",
    "spearman_corr_res, kendall_corr_res = calc_score(log_reg)\n",
    "print(f\"Spearman correlation: {spearman_corr_res}\")\n",
    "print(f\"Kendall correlation: {kendall_corr_res}\")"
   ]
  },
  {
   "cell_type": "markdown",
   "metadata": {
    "id": "Hb_Xg8J1Q3Yi"
   },
   "source": [
    "**4.Теперь главное: ЧГК — это всё-таки командная игра. Поэтому:**\n",
    "\n",
    "a) предложите способ учитывать то, что на вопрос отвечают сразу несколько игроков; скорее всего, понадобятся скрытые переменные; не стесняйтесь делать упрощающие предположения, но теперь переменные “игрок X ответил на вопрос Y” при условии данных должны стать зависимыми для игроков одной и той же команды;\n",
    "\n",
    "b) разработайте EM-схему для обучения этой модели, реализуйте её в коде;\n",
    "\n",
    "c) обучите несколько итераций, убедитесь, что целевые метрики со временем растут (скорее всего, ненамного, но расти должны), выберите лучшую модель, используя целевые метрики."
   ]
  },
  {
   "cell_type": "markdown",
   "metadata": {
    "id": "mEivvqsOQ5NG"
   },
   "source": [
    "* E-шаг: находим мат. ожидания $z_i{}_j$ (мат. ожидание того, что игрок i правильно ответил на вопрос j). \n",
    "\n",
    "1) $E[z_i{}_j] = 0$, если вся команда не ответила на вопрос $j$.\n",
    "\n",
    "2) $E[z_i{}_j] = \\frac{\\sigma [skill_i, question_j]}{1 - \\prod_{n \\in team} (1 - \\sigma [skill_n, question_j])}$, если комада ответила на вопрос $j$. \n",
    "\n",
    "Формулу из п.2 получаем по теореме Байеса: \n",
    "\n",
    "Пусть событие A - команда правильно ответила на вопрос. Тогда событие B - игрок из команды правильно ответил на вопрос.\n",
    "\n",
    "$P(B|A) = \\frac{P(A|B)P(B)}{P(A)}$; $P(A|B) = 1$ (если игрок ответил на вопрос, то и комада ответила на вопрос). В таком случае: $P(B|A) = \\frac{P(B)}{P(A)}$\n",
    "\n",
    "* M-шаг: пересчитываем параметры логистической регрессии, используя новые z."
   ]
  },
  {
   "cell_type": "code",
   "execution_count": 33,
   "metadata": {
    "id": "Sgt_i-4QRFog"
   },
   "outputs": [],
   "source": [
    "def step_e(model, data, target):\n",
    "    e_z = []\n",
    "    predict_prob = model.predict_proba(data)[:, 1]\n",
    "    start = 0\n",
    "    for team in tqdm(train_tourn_res):\n",
    "        team_size = len(team[\"player_ids\"])\n",
    "        mask_size = len(team[\"mask\"])\n",
    "        team_preds = predict_prob[start : start + team_size * mask_size]\n",
    "        team_answers = predict_prob[start: start + team_size * mask_size]\n",
    "        true_team_answers = target[start: start + mask_size]\n",
    "        team_answers = team_answers.reshape((-1, mask_size)).T\n",
    "        p_z = 1 - np.prod(1 - team_answers, axis=1)\n",
    "        team_answers = team_answers / p_z.reshape(-1, 1)\n",
    "        team_answers = np.where(true_team_answers != 0, team_answers, 0)\n",
    "        predict_prob[start: start + team_size * mask_size] = team_answers.T.reshape(-1) \n",
    "        start += team_size * mask_size   \n",
    "    return predict_prob\n",
    "\n",
    "def step_m(e_z, dataset):\n",
    "    e_z = np.array(e_z)\n",
    "    fst_target = np.full((dataset.shape[0], 1), 0)\n",
    "    sec_target = np.full((dataset.shape[0], 1), 1)\n",
    "    targets = np.vstack((fst_target, sec_target))\n",
    "    x = vstack([dataset, dataset])\n",
    "    sample_weights = np.hstack((1 - e_z, e_z))\n",
    "    model = LogisticRegression(solver=\"saga\")\n",
    "    model.fit(x, targets, sample_weight=sample_weights)\n",
    "    return model"
   ]
  },
  {
   "cell_type": "code",
   "execution_count": null,
   "metadata": {},
   "outputs": [
    {
     "name": "stderr",
     "output_type": "stream",
     "text": [
      "100%|█████████████████████████████████████████████████████████████████████████| 76490/76490 [00:01<00:00, 76195.69it/s]\n",
      "D:\\Program Files\\Anaconda\\lib\\site-packages\\sklearn\\utils\\validation.py:993: DataConversionWarning: A column-vector y was passed when a 1d array was expected. Please change the shape of y to (n_samples, ), for example using ravel().\n",
      "  y = column_or_1d(y, warn=True)\n",
      "100%|████████████████████████████████████████████████████████████████████████████████| 165/165 [12:54<00:00,  4.70s/it]\n"
     ]
    },
    {
     "name": "stdout",
     "output_type": "stream",
     "text": [
      "Spearman correlation: 0.8132040082055692\n",
      "Kendall correlation: 0.6552292117824328\n"
     ]
    },
    {
     "name": "stderr",
     "output_type": "stream",
     "text": [
      "100%|█████████████████████████████████████████████████████████████████████████| 76490/76490 [00:01<00:00, 74779.07it/s]\n",
      "D:\\Program Files\\Anaconda\\lib\\site-packages\\sklearn\\utils\\validation.py:993: DataConversionWarning: A column-vector y was passed when a 1d array was expected. Please change the shape of y to (n_samples, ), for example using ravel().\n",
      "  y = column_or_1d(y, warn=True)\n",
      "100%|████████████████████████████████████████████████████████████████████████████████| 165/165 [12:56<00:00,  4.70s/it]\n"
     ]
    },
    {
     "name": "stdout",
     "output_type": "stream",
     "text": [
      "Spearman correlation: 0.8131966740814038\n",
      "Kendall correlation: 0.6551453774102106\n"
     ]
    },
    {
     "name": "stderr",
     "output_type": "stream",
     "text": [
      "100%|█████████████████████████████████████████████████████████████████████████| 76490/76490 [00:01<00:00, 74379.04it/s]\n",
      "D:\\Program Files\\Anaconda\\lib\\site-packages\\sklearn\\utils\\validation.py:993: DataConversionWarning: A column-vector y was passed when a 1d array was expected. Please change the shape of y to (n_samples, ), for example using ravel().\n",
      "  y = column_or_1d(y, warn=True)\n",
      "100%|████████████████████████████████████████████████████████████████████████████████| 165/165 [12:42<00:00,  4.62s/it]\n"
     ]
    },
    {
     "name": "stdout",
     "output_type": "stream",
     "text": [
      "Spearman correlation: 0.8123022230357441\n",
      "Kendall correlation: 0.6547762872974641\n"
     ]
    },
    {
     "name": "stderr",
     "output_type": "stream",
     "text": [
      "100%|█████████████████████████████████████████████████████████████████████████| 76490/76490 [00:01<00:00, 75036.01it/s]\n",
      "D:\\Program Files\\Anaconda\\lib\\site-packages\\sklearn\\utils\\validation.py:993: DataConversionWarning: A column-vector y was passed when a 1d array was expected. Please change the shape of y to (n_samples, ), for example using ravel().\n",
      "  y = column_or_1d(y, warn=True)\n",
      "100%|████████████████████████████████████████████████████████████████████████████████| 165/165 [13:15<00:00,  4.82s/it]\n"
     ]
    },
    {
     "name": "stdout",
     "output_type": "stream",
     "text": [
      "Spearman correlation: 0.8118777851753589\n",
      "Kendall correlation: 0.6551917104648849\n"
     ]
    },
    {
     "name": "stderr",
     "output_type": "stream",
     "text": [
      "100%|█████████████████████████████████████████████████████████████████████████| 76490/76490 [00:01<00:00, 72889.00it/s]\n",
      "D:\\Program Files\\Anaconda\\lib\\site-packages\\sklearn\\utils\\validation.py:993: DataConversionWarning: A column-vector y was passed when a 1d array was expected. Please change the shape of y to (n_samples, ), for example using ravel().\n",
      "  y = column_or_1d(y, warn=True)\n",
      "100%|████████████████████████████████████████████████████████████████████████████████| 165/165 [12:57<00:00,  4.71s/it]\n"
     ]
    },
    {
     "name": "stdout",
     "output_type": "stream",
     "text": [
      "Spearman correlation: 0.8116375914565206\n",
      "Kendall correlation: 0.6548760268473673\n"
     ]
    },
    {
     "name": "stderr",
     "output_type": "stream",
     "text": [
      "100%|█████████████████████████████████████████████████████████████████████████| 76490/76490 [00:01<00:00, 73982.81it/s]\n",
      "D:\\Program Files\\Anaconda\\lib\\site-packages\\sklearn\\utils\\validation.py:993: DataConversionWarning: A column-vector y was passed when a 1d array was expected. Please change the shape of y to (n_samples, ), for example using ravel().\n",
      "  y = column_or_1d(y, warn=True)\n",
      "  2%|█▉                                                                                | 4/165 [00:25<17:36,  6.56s/it]"
     ]
    }
   ],
   "source": [
    "models_list = []\n",
    "model = log_reg\n",
    "for i in range(6):\n",
    "    e_z = step_e(model, dataset, target)\n",
    "    model = step_m(e_z, dataset)\n",
    "    models_list.append(model)\n",
    "    spearman_corr, kendall_corr = calc_score(model)\n",
    "    print(f\"Spearman correlation: {spearman_corr}\")\n",
    "    print(f\"Kendall correlation: {kendall_corr}\")"
   ]
  },
  {
   "cell_type": "markdown",
   "metadata": {
    "id": "9FlUoNYNjwIb"
   },
   "source": []
  }
 ],
 "metadata": {
  "colab": {
   "name": "Untitled5 (2).ipynb",
   "provenance": []
  },
  "kernelspec": {
   "display_name": "Python 3",
   "language": "python",
   "name": "python3"
  },
  "language_info": {
   "codemirror_mode": {
    "name": "ipython",
    "version": 3
   },
   "file_extension": ".py",
   "mimetype": "text/x-python",
   "name": "python",
   "nbconvert_exporter": "python",
   "pygments_lexer": "ipython3",
   "version": "3.8.8"
  }
 },
 "nbformat": 4,
 "nbformat_minor": 1
}
